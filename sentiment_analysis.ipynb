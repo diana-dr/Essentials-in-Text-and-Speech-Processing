{
  "cells": [
    {
      "cell_type": "markdown",
      "metadata": {
        "id": "view-in-github",
        "colab_type": "text"
      },
      "source": [
        "<a href=\"https://colab.research.google.com/github/diana-dr/Essentials-in-Text-and-Speech-Processing/blob/main/sentiment_analysis.ipynb\" target=\"_parent\"><img src=\"https://colab.research.google.com/assets/colab-badge.svg\" alt=\"Open In Colab\"/></a>"
      ]
    },
    {
      "cell_type": "code",
      "execution_count": 5,
      "id": "02493321",
      "metadata": {
        "colab": {
          "base_uri": "https://localhost:8080/"
        },
        "id": "02493321",
        "outputId": "05a25ce1-51ab-4140-f969-de97b4f420a5"
      },
      "outputs": [
        {
          "output_type": "stream",
          "name": "stdout",
          "text": [
            "Looking in indexes: https://pypi.org/simple, https://us-python.pkg.dev/colab-wheels/public/simple/\n",
            "Requirement already satisfied: langdetect in /usr/local/lib/python3.7/dist-packages (1.0.9)\n",
            "Requirement already satisfied: six in /usr/local/lib/python3.7/dist-packages (from langdetect) (1.15.0)\n"
          ]
        }
      ],
      "source": [
        "%pip install langdetect\n",
        "from langdetect import detect"
      ]
    },
    {
      "cell_type": "code",
      "source": [
        "from google.colab import drive\n",
        "drive.mount('/content/drive')"
      ],
      "metadata": {
        "colab": {
          "base_uri": "https://localhost:8080/"
        },
        "id": "5_7fGrRxYLyn",
        "outputId": "68a00e4e-ec45-47d0-e7db-bff0004f6ea4"
      },
      "id": "5_7fGrRxYLyn",
      "execution_count": 6,
      "outputs": [
        {
          "output_type": "stream",
          "name": "stdout",
          "text": [
            "Drive already mounted at /content/drive; to attempt to forcibly remount, call drive.mount(\"/content/drive\", force_remount=True).\n"
          ]
        }
      ]
    },
    {
      "cell_type": "code",
      "execution_count": 7,
      "id": "abd4b987",
      "metadata": {
        "id": "abd4b987"
      },
      "outputs": [],
      "source": [
        "import numpy as np\n",
        "import matplotlib.pyplot as plt\n",
        "import pandas as pd\n",
        "import re\n",
        "import nltk\n",
        "from nltk.corpus import stopwords\n",
        "from nltk.stem.porter import PorterStemmer\n",
        "from sklearn.feature_extraction.text import CountVectorizer\n",
        "from sklearn.model_selection import train_test_split\n",
        "from sklearn.naive_bayes import GaussianNB\n",
        "from sklearn.metrics import confusion_matrix\n",
        "from statistics import mean\n",
        "from sklearn.tree import DecisionTreeClassifier\n",
        "from sklearn.ensemble import RandomForestClassifier"
      ]
    },
    {
      "cell_type": "markdown",
      "id": "d9ea7fca",
      "metadata": {
        "_uuid": "77fcb9279ff2309d78645724340cbf32dcf515df",
        "id": "d9ea7fca"
      },
      "source": [
        "<a id=\"section2\"></a>\n",
        "# Project set-up"
      ]
    },
    {
      "cell_type": "code",
      "execution_count": 4,
      "id": "23acad87",
      "metadata": {
        "_kg_hide-input": true,
        "_uuid": "028f8fc80ebba9a769fa6fa6bcd5c4904821b93c",
        "colab": {
          "base_uri": "https://localhost:8080/",
          "height": 407
        },
        "id": "23acad87",
        "outputId": "a0aeb266-ef9f-49e4-dfad-d97fd36539fb"
      },
      "outputs": [
        {
          "output_type": "execute_result",
          "data": {
            "text/plain": [
              "                review_id                 user_id             business_id  \\\n",
              "0  vkVSCC7xljjrAI4UGfnKEQ  bv2nCi5Qv5vroFiqKGopiw  AEx2SYEUJmTxVVB18LlCwA   \n",
              "1  n6QzIUObkYshz4dz2QRJTw  bv2nCi5Qv5vroFiqKGopiw  VR6GpWIda3SfvPC-lg9H3w   \n",
              "2  MV3CcKScW05u5LVfF6ok0g  bv2nCi5Qv5vroFiqKGopiw  CKC0-MOWMqoeWf6s-szl8g   \n",
              "3  IXvOzsEMYtiJI0CARmj77Q  bv2nCi5Qv5vroFiqKGopiw  ACFtxLv8pGrrxMm6EgjreA   \n",
              "4  L_9BTb55X0GDtThi6GlZ6w  bv2nCi5Qv5vroFiqKGopiw  s2I_Ni76bjJNK9yG60iD-Q   \n",
              "5  HRPm3vEZ_F-33TYVT7Pebw  _4iMDXbXZ1p1ONG297YEAQ  8QWPlVQ6D-OExqXoaD2Z1g   \n",
              "6  ymAUG8DZfQcFTBSOiaNN4w  u0LXt3Uea_GidxRW1xcsfg  9_CGhHMz8698M9-PkVf0CQ   \n",
              "7  8UIishPUD92hXtScSga_gw  u0LXt3Uea_GidxRW1xcsfg  gkCorLgPyQLsptTHalL61g   \n",
              "8  w41ZS9shepfO3uEyhXEWuQ  u0LXt3Uea_GidxRW1xcsfg  5r6-G9C4YLbC7Ziz57l3rQ   \n",
              "9  WF_QTN3p-thD74hqpp2j-Q  u0LXt3Uea_GidxRW1xcsfg  fDF_o2JPU8BR1Gya--jRIA   \n",
              "\n",
              "   stars        date                                               text  \\\n",
              "0      5  2016-05-28  Super simple place but amazing nonetheless. It...   \n",
              "1      5  2016-05-28  Small unassuming place that changes their menu...   \n",
              "2      5  2016-05-28  Lester's is located in a beautiful neighborhoo...   \n",
              "3      4  2016-05-28  Love coming here. Yes the place always needs t...   \n",
              "4      4  2016-05-28  Had their chocolate almond croissant and it wa...   \n",
              "5      5  2014-09-24  Cycle Pub Las Vegas was a blast! Got a groupon...   \n",
              "6      4  2012-05-11  Who would have guess that you would be able to...   \n",
              "7      4  2015-10-27  Always drove past this coffee house and wonder...   \n",
              "8      3  2013-02-09  Not bad!! Love that there is a gluten-free, ve...   \n",
              "9      5  2016-04-06  Love this place!\\n\\nPeggy is great with dogs a...   \n",
              "\n",
              "   useful  funny  cool  \n",
              "0       0      0     0  \n",
              "1       0      0     0  \n",
              "2       0      0     0  \n",
              "3       0      0     0  \n",
              "4       0      0     0  \n",
              "5       1      0     0  \n",
              "6       0      0     2  \n",
              "7       1      0     0  \n",
              "8       1      0     0  \n",
              "9       3      0     0  "
            ],
            "text/html": [
              "\n",
              "  <div id=\"df-eec7314e-7e9f-4cdf-86e0-65753a500369\">\n",
              "    <div class=\"colab-df-container\">\n",
              "      <div>\n",
              "<style scoped>\n",
              "    .dataframe tbody tr th:only-of-type {\n",
              "        vertical-align: middle;\n",
              "    }\n",
              "\n",
              "    .dataframe tbody tr th {\n",
              "        vertical-align: top;\n",
              "    }\n",
              "\n",
              "    .dataframe thead th {\n",
              "        text-align: right;\n",
              "    }\n",
              "</style>\n",
              "<table border=\"1\" class=\"dataframe\">\n",
              "  <thead>\n",
              "    <tr style=\"text-align: right;\">\n",
              "      <th></th>\n",
              "      <th>review_id</th>\n",
              "      <th>user_id</th>\n",
              "      <th>business_id</th>\n",
              "      <th>stars</th>\n",
              "      <th>date</th>\n",
              "      <th>text</th>\n",
              "      <th>useful</th>\n",
              "      <th>funny</th>\n",
              "      <th>cool</th>\n",
              "    </tr>\n",
              "  </thead>\n",
              "  <tbody>\n",
              "    <tr>\n",
              "      <th>0</th>\n",
              "      <td>vkVSCC7xljjrAI4UGfnKEQ</td>\n",
              "      <td>bv2nCi5Qv5vroFiqKGopiw</td>\n",
              "      <td>AEx2SYEUJmTxVVB18LlCwA</td>\n",
              "      <td>5</td>\n",
              "      <td>2016-05-28</td>\n",
              "      <td>Super simple place but amazing nonetheless. It...</td>\n",
              "      <td>0</td>\n",
              "      <td>0</td>\n",
              "      <td>0</td>\n",
              "    </tr>\n",
              "    <tr>\n",
              "      <th>1</th>\n",
              "      <td>n6QzIUObkYshz4dz2QRJTw</td>\n",
              "      <td>bv2nCi5Qv5vroFiqKGopiw</td>\n",
              "      <td>VR6GpWIda3SfvPC-lg9H3w</td>\n",
              "      <td>5</td>\n",
              "      <td>2016-05-28</td>\n",
              "      <td>Small unassuming place that changes their menu...</td>\n",
              "      <td>0</td>\n",
              "      <td>0</td>\n",
              "      <td>0</td>\n",
              "    </tr>\n",
              "    <tr>\n",
              "      <th>2</th>\n",
              "      <td>MV3CcKScW05u5LVfF6ok0g</td>\n",
              "      <td>bv2nCi5Qv5vroFiqKGopiw</td>\n",
              "      <td>CKC0-MOWMqoeWf6s-szl8g</td>\n",
              "      <td>5</td>\n",
              "      <td>2016-05-28</td>\n",
              "      <td>Lester's is located in a beautiful neighborhoo...</td>\n",
              "      <td>0</td>\n",
              "      <td>0</td>\n",
              "      <td>0</td>\n",
              "    </tr>\n",
              "    <tr>\n",
              "      <th>3</th>\n",
              "      <td>IXvOzsEMYtiJI0CARmj77Q</td>\n",
              "      <td>bv2nCi5Qv5vroFiqKGopiw</td>\n",
              "      <td>ACFtxLv8pGrrxMm6EgjreA</td>\n",
              "      <td>4</td>\n",
              "      <td>2016-05-28</td>\n",
              "      <td>Love coming here. Yes the place always needs t...</td>\n",
              "      <td>0</td>\n",
              "      <td>0</td>\n",
              "      <td>0</td>\n",
              "    </tr>\n",
              "    <tr>\n",
              "      <th>4</th>\n",
              "      <td>L_9BTb55X0GDtThi6GlZ6w</td>\n",
              "      <td>bv2nCi5Qv5vroFiqKGopiw</td>\n",
              "      <td>s2I_Ni76bjJNK9yG60iD-Q</td>\n",
              "      <td>4</td>\n",
              "      <td>2016-05-28</td>\n",
              "      <td>Had their chocolate almond croissant and it wa...</td>\n",
              "      <td>0</td>\n",
              "      <td>0</td>\n",
              "      <td>0</td>\n",
              "    </tr>\n",
              "    <tr>\n",
              "      <th>5</th>\n",
              "      <td>HRPm3vEZ_F-33TYVT7Pebw</td>\n",
              "      <td>_4iMDXbXZ1p1ONG297YEAQ</td>\n",
              "      <td>8QWPlVQ6D-OExqXoaD2Z1g</td>\n",
              "      <td>5</td>\n",
              "      <td>2014-09-24</td>\n",
              "      <td>Cycle Pub Las Vegas was a blast! Got a groupon...</td>\n",
              "      <td>1</td>\n",
              "      <td>0</td>\n",
              "      <td>0</td>\n",
              "    </tr>\n",
              "    <tr>\n",
              "      <th>6</th>\n",
              "      <td>ymAUG8DZfQcFTBSOiaNN4w</td>\n",
              "      <td>u0LXt3Uea_GidxRW1xcsfg</td>\n",
              "      <td>9_CGhHMz8698M9-PkVf0CQ</td>\n",
              "      <td>4</td>\n",
              "      <td>2012-05-11</td>\n",
              "      <td>Who would have guess that you would be able to...</td>\n",
              "      <td>0</td>\n",
              "      <td>0</td>\n",
              "      <td>2</td>\n",
              "    </tr>\n",
              "    <tr>\n",
              "      <th>7</th>\n",
              "      <td>8UIishPUD92hXtScSga_gw</td>\n",
              "      <td>u0LXt3Uea_GidxRW1xcsfg</td>\n",
              "      <td>gkCorLgPyQLsptTHalL61g</td>\n",
              "      <td>4</td>\n",
              "      <td>2015-10-27</td>\n",
              "      <td>Always drove past this coffee house and wonder...</td>\n",
              "      <td>1</td>\n",
              "      <td>0</td>\n",
              "      <td>0</td>\n",
              "    </tr>\n",
              "    <tr>\n",
              "      <th>8</th>\n",
              "      <td>w41ZS9shepfO3uEyhXEWuQ</td>\n",
              "      <td>u0LXt3Uea_GidxRW1xcsfg</td>\n",
              "      <td>5r6-G9C4YLbC7Ziz57l3rQ</td>\n",
              "      <td>3</td>\n",
              "      <td>2013-02-09</td>\n",
              "      <td>Not bad!! Love that there is a gluten-free, ve...</td>\n",
              "      <td>1</td>\n",
              "      <td>0</td>\n",
              "      <td>0</td>\n",
              "    </tr>\n",
              "    <tr>\n",
              "      <th>9</th>\n",
              "      <td>WF_QTN3p-thD74hqpp2j-Q</td>\n",
              "      <td>u0LXt3Uea_GidxRW1xcsfg</td>\n",
              "      <td>fDF_o2JPU8BR1Gya--jRIA</td>\n",
              "      <td>5</td>\n",
              "      <td>2016-04-06</td>\n",
              "      <td>Love this place!\\n\\nPeggy is great with dogs a...</td>\n",
              "      <td>3</td>\n",
              "      <td>0</td>\n",
              "      <td>0</td>\n",
              "    </tr>\n",
              "  </tbody>\n",
              "</table>\n",
              "</div>\n",
              "      <button class=\"colab-df-convert\" onclick=\"convertToInteractive('df-eec7314e-7e9f-4cdf-86e0-65753a500369')\"\n",
              "              title=\"Convert this dataframe to an interactive table.\"\n",
              "              style=\"display:none;\">\n",
              "        \n",
              "  <svg xmlns=\"http://www.w3.org/2000/svg\" height=\"24px\"viewBox=\"0 0 24 24\"\n",
              "       width=\"24px\">\n",
              "    <path d=\"M0 0h24v24H0V0z\" fill=\"none\"/>\n",
              "    <path d=\"M18.56 5.44l.94 2.06.94-2.06 2.06-.94-2.06-.94-.94-2.06-.94 2.06-2.06.94zm-11 1L8.5 8.5l.94-2.06 2.06-.94-2.06-.94L8.5 2.5l-.94 2.06-2.06.94zm10 10l.94 2.06.94-2.06 2.06-.94-2.06-.94-.94-2.06-.94 2.06-2.06.94z\"/><path d=\"M17.41 7.96l-1.37-1.37c-.4-.4-.92-.59-1.43-.59-.52 0-1.04.2-1.43.59L10.3 9.45l-7.72 7.72c-.78.78-.78 2.05 0 2.83L4 21.41c.39.39.9.59 1.41.59.51 0 1.02-.2 1.41-.59l7.78-7.78 2.81-2.81c.8-.78.8-2.07 0-2.86zM5.41 20L4 18.59l7.72-7.72 1.47 1.35L5.41 20z\"/>\n",
              "  </svg>\n",
              "      </button>\n",
              "      \n",
              "  <style>\n",
              "    .colab-df-container {\n",
              "      display:flex;\n",
              "      flex-wrap:wrap;\n",
              "      gap: 12px;\n",
              "    }\n",
              "\n",
              "    .colab-df-convert {\n",
              "      background-color: #E8F0FE;\n",
              "      border: none;\n",
              "      border-radius: 50%;\n",
              "      cursor: pointer;\n",
              "      display: none;\n",
              "      fill: #1967D2;\n",
              "      height: 32px;\n",
              "      padding: 0 0 0 0;\n",
              "      width: 32px;\n",
              "    }\n",
              "\n",
              "    .colab-df-convert:hover {\n",
              "      background-color: #E2EBFA;\n",
              "      box-shadow: 0px 1px 2px rgba(60, 64, 67, 0.3), 0px 1px 3px 1px rgba(60, 64, 67, 0.15);\n",
              "      fill: #174EA6;\n",
              "    }\n",
              "\n",
              "    [theme=dark] .colab-df-convert {\n",
              "      background-color: #3B4455;\n",
              "      fill: #D2E3FC;\n",
              "    }\n",
              "\n",
              "    [theme=dark] .colab-df-convert:hover {\n",
              "      background-color: #434B5C;\n",
              "      box-shadow: 0px 1px 3px 1px rgba(0, 0, 0, 0.15);\n",
              "      filter: drop-shadow(0px 1px 2px rgba(0, 0, 0, 0.3));\n",
              "      fill: #FFFFFF;\n",
              "    }\n",
              "  </style>\n",
              "\n",
              "      <script>\n",
              "        const buttonEl =\n",
              "          document.querySelector('#df-eec7314e-7e9f-4cdf-86e0-65753a500369 button.colab-df-convert');\n",
              "        buttonEl.style.display =\n",
              "          google.colab.kernel.accessAllowed ? 'block' : 'none';\n",
              "\n",
              "        async function convertToInteractive(key) {\n",
              "          const element = document.querySelector('#df-eec7314e-7e9f-4cdf-86e0-65753a500369');\n",
              "          const dataTable =\n",
              "            await google.colab.kernel.invokeFunction('convertToInteractive',\n",
              "                                                     [key], {});\n",
              "          if (!dataTable) return;\n",
              "\n",
              "          const docLinkHtml = 'Like what you see? Visit the ' +\n",
              "            '<a target=\"_blank\" href=https://colab.research.google.com/notebooks/data_table.ipynb>data table notebook</a>'\n",
              "            + ' to learn more about interactive tables.';\n",
              "          element.innerHTML = '';\n",
              "          dataTable['output_type'] = 'display_data';\n",
              "          await google.colab.output.renderOutput(dataTable, element);\n",
              "          const docLink = document.createElement('div');\n",
              "          docLink.innerHTML = docLinkHtml;\n",
              "          element.appendChild(docLink);\n",
              "        }\n",
              "      </script>\n",
              "    </div>\n",
              "  </div>\n",
              "  "
            ]
          },
          "metadata": {},
          "execution_count": 4
        }
      ],
      "source": [
        "dataset = pd.read_csv('/content/drive/MyDrive/Dataset/yelp_review.csv')\n",
        "dataset.head(10)"
      ]
    },
    {
      "cell_type": "code",
      "execution_count": 8,
      "id": "211f95c4",
      "metadata": {
        "id": "211f95c4"
      },
      "outputs": [],
      "source": [
        "main_dataset = dataset"
      ]
    },
    {
      "cell_type": "code",
      "execution_count": 9,
      "id": "3a161c76",
      "metadata": {
        "_kg_hide-input": true,
        "_uuid": "63d1584c8589ef4c2eef6f4a32701842da3bb06c",
        "colab": {
          "base_uri": "https://localhost:8080/",
          "height": 363
        },
        "id": "3a161c76",
        "outputId": "27816e61-b1ed-463e-e362-b374390d801f"
      },
      "outputs": [
        {
          "output_type": "execute_result",
          "data": {
            "text/plain": [
              "              business_id  stars        date  \\\n",
              "0  AEx2SYEUJmTxVVB18LlCwA      5  2016-05-28   \n",
              "1  VR6GpWIda3SfvPC-lg9H3w      5  2016-05-28   \n",
              "2  CKC0-MOWMqoeWf6s-szl8g      5  2016-05-28   \n",
              "3  ACFtxLv8pGrrxMm6EgjreA      4  2016-05-28   \n",
              "4  s2I_Ni76bjJNK9yG60iD-Q      4  2016-05-28   \n",
              "5  8QWPlVQ6D-OExqXoaD2Z1g      5  2014-09-24   \n",
              "6  9_CGhHMz8698M9-PkVf0CQ      4  2012-05-11   \n",
              "7  gkCorLgPyQLsptTHalL61g      4  2015-10-27   \n",
              "8  5r6-G9C4YLbC7Ziz57l3rQ      3  2013-02-09   \n",
              "9  fDF_o2JPU8BR1Gya--jRIA      5  2016-04-06   \n",
              "\n",
              "                                                text  \n",
              "0  Super simple place but amazing nonetheless. It...  \n",
              "1  Small unassuming place that changes their menu...  \n",
              "2  Lester's is located in a beautiful neighborhoo...  \n",
              "3  Love coming here. Yes the place always needs t...  \n",
              "4  Had their chocolate almond croissant and it wa...  \n",
              "5  Cycle Pub Las Vegas was a blast! Got a groupon...  \n",
              "6  Who would have guess that you would be able to...  \n",
              "7  Always drove past this coffee house and wonder...  \n",
              "8  Not bad!! Love that there is a gluten-free, ve...  \n",
              "9  Love this place!\\n\\nPeggy is great with dogs a...  "
            ],
            "text/html": [
              "\n",
              "  <div id=\"df-fe9de38c-27ea-4fc8-9fb2-6f838b615803\">\n",
              "    <div class=\"colab-df-container\">\n",
              "      <div>\n",
              "<style scoped>\n",
              "    .dataframe tbody tr th:only-of-type {\n",
              "        vertical-align: middle;\n",
              "    }\n",
              "\n",
              "    .dataframe tbody tr th {\n",
              "        vertical-align: top;\n",
              "    }\n",
              "\n",
              "    .dataframe thead th {\n",
              "        text-align: right;\n",
              "    }\n",
              "</style>\n",
              "<table border=\"1\" class=\"dataframe\">\n",
              "  <thead>\n",
              "    <tr style=\"text-align: right;\">\n",
              "      <th></th>\n",
              "      <th>business_id</th>\n",
              "      <th>stars</th>\n",
              "      <th>date</th>\n",
              "      <th>text</th>\n",
              "    </tr>\n",
              "  </thead>\n",
              "  <tbody>\n",
              "    <tr>\n",
              "      <th>0</th>\n",
              "      <td>AEx2SYEUJmTxVVB18LlCwA</td>\n",
              "      <td>5</td>\n",
              "      <td>2016-05-28</td>\n",
              "      <td>Super simple place but amazing nonetheless. It...</td>\n",
              "    </tr>\n",
              "    <tr>\n",
              "      <th>1</th>\n",
              "      <td>VR6GpWIda3SfvPC-lg9H3w</td>\n",
              "      <td>5</td>\n",
              "      <td>2016-05-28</td>\n",
              "      <td>Small unassuming place that changes their menu...</td>\n",
              "    </tr>\n",
              "    <tr>\n",
              "      <th>2</th>\n",
              "      <td>CKC0-MOWMqoeWf6s-szl8g</td>\n",
              "      <td>5</td>\n",
              "      <td>2016-05-28</td>\n",
              "      <td>Lester's is located in a beautiful neighborhoo...</td>\n",
              "    </tr>\n",
              "    <tr>\n",
              "      <th>3</th>\n",
              "      <td>ACFtxLv8pGrrxMm6EgjreA</td>\n",
              "      <td>4</td>\n",
              "      <td>2016-05-28</td>\n",
              "      <td>Love coming here. Yes the place always needs t...</td>\n",
              "    </tr>\n",
              "    <tr>\n",
              "      <th>4</th>\n",
              "      <td>s2I_Ni76bjJNK9yG60iD-Q</td>\n",
              "      <td>4</td>\n",
              "      <td>2016-05-28</td>\n",
              "      <td>Had their chocolate almond croissant and it wa...</td>\n",
              "    </tr>\n",
              "    <tr>\n",
              "      <th>5</th>\n",
              "      <td>8QWPlVQ6D-OExqXoaD2Z1g</td>\n",
              "      <td>5</td>\n",
              "      <td>2014-09-24</td>\n",
              "      <td>Cycle Pub Las Vegas was a blast! Got a groupon...</td>\n",
              "    </tr>\n",
              "    <tr>\n",
              "      <th>6</th>\n",
              "      <td>9_CGhHMz8698M9-PkVf0CQ</td>\n",
              "      <td>4</td>\n",
              "      <td>2012-05-11</td>\n",
              "      <td>Who would have guess that you would be able to...</td>\n",
              "    </tr>\n",
              "    <tr>\n",
              "      <th>7</th>\n",
              "      <td>gkCorLgPyQLsptTHalL61g</td>\n",
              "      <td>4</td>\n",
              "      <td>2015-10-27</td>\n",
              "      <td>Always drove past this coffee house and wonder...</td>\n",
              "    </tr>\n",
              "    <tr>\n",
              "      <th>8</th>\n",
              "      <td>5r6-G9C4YLbC7Ziz57l3rQ</td>\n",
              "      <td>3</td>\n",
              "      <td>2013-02-09</td>\n",
              "      <td>Not bad!! Love that there is a gluten-free, ve...</td>\n",
              "    </tr>\n",
              "    <tr>\n",
              "      <th>9</th>\n",
              "      <td>fDF_o2JPU8BR1Gya--jRIA</td>\n",
              "      <td>5</td>\n",
              "      <td>2016-04-06</td>\n",
              "      <td>Love this place!\\n\\nPeggy is great with dogs a...</td>\n",
              "    </tr>\n",
              "  </tbody>\n",
              "</table>\n",
              "</div>\n",
              "      <button class=\"colab-df-convert\" onclick=\"convertToInteractive('df-fe9de38c-27ea-4fc8-9fb2-6f838b615803')\"\n",
              "              title=\"Convert this dataframe to an interactive table.\"\n",
              "              style=\"display:none;\">\n",
              "        \n",
              "  <svg xmlns=\"http://www.w3.org/2000/svg\" height=\"24px\"viewBox=\"0 0 24 24\"\n",
              "       width=\"24px\">\n",
              "    <path d=\"M0 0h24v24H0V0z\" fill=\"none\"/>\n",
              "    <path d=\"M18.56 5.44l.94 2.06.94-2.06 2.06-.94-2.06-.94-.94-2.06-.94 2.06-2.06.94zm-11 1L8.5 8.5l.94-2.06 2.06-.94-2.06-.94L8.5 2.5l-.94 2.06-2.06.94zm10 10l.94 2.06.94-2.06 2.06-.94-2.06-.94-.94-2.06-.94 2.06-2.06.94z\"/><path d=\"M17.41 7.96l-1.37-1.37c-.4-.4-.92-.59-1.43-.59-.52 0-1.04.2-1.43.59L10.3 9.45l-7.72 7.72c-.78.78-.78 2.05 0 2.83L4 21.41c.39.39.9.59 1.41.59.51 0 1.02-.2 1.41-.59l7.78-7.78 2.81-2.81c.8-.78.8-2.07 0-2.86zM5.41 20L4 18.59l7.72-7.72 1.47 1.35L5.41 20z\"/>\n",
              "  </svg>\n",
              "      </button>\n",
              "      \n",
              "  <style>\n",
              "    .colab-df-container {\n",
              "      display:flex;\n",
              "      flex-wrap:wrap;\n",
              "      gap: 12px;\n",
              "    }\n",
              "\n",
              "    .colab-df-convert {\n",
              "      background-color: #E8F0FE;\n",
              "      border: none;\n",
              "      border-radius: 50%;\n",
              "      cursor: pointer;\n",
              "      display: none;\n",
              "      fill: #1967D2;\n",
              "      height: 32px;\n",
              "      padding: 0 0 0 0;\n",
              "      width: 32px;\n",
              "    }\n",
              "\n",
              "    .colab-df-convert:hover {\n",
              "      background-color: #E2EBFA;\n",
              "      box-shadow: 0px 1px 2px rgba(60, 64, 67, 0.3), 0px 1px 3px 1px rgba(60, 64, 67, 0.15);\n",
              "      fill: #174EA6;\n",
              "    }\n",
              "\n",
              "    [theme=dark] .colab-df-convert {\n",
              "      background-color: #3B4455;\n",
              "      fill: #D2E3FC;\n",
              "    }\n",
              "\n",
              "    [theme=dark] .colab-df-convert:hover {\n",
              "      background-color: #434B5C;\n",
              "      box-shadow: 0px 1px 3px 1px rgba(0, 0, 0, 0.15);\n",
              "      filter: drop-shadow(0px 1px 2px rgba(0, 0, 0, 0.3));\n",
              "      fill: #FFFFFF;\n",
              "    }\n",
              "  </style>\n",
              "\n",
              "      <script>\n",
              "        const buttonEl =\n",
              "          document.querySelector('#df-fe9de38c-27ea-4fc8-9fb2-6f838b615803 button.colab-df-convert');\n",
              "        buttonEl.style.display =\n",
              "          google.colab.kernel.accessAllowed ? 'block' : 'none';\n",
              "\n",
              "        async function convertToInteractive(key) {\n",
              "          const element = document.querySelector('#df-fe9de38c-27ea-4fc8-9fb2-6f838b615803');\n",
              "          const dataTable =\n",
              "            await google.colab.kernel.invokeFunction('convertToInteractive',\n",
              "                                                     [key], {});\n",
              "          if (!dataTable) return;\n",
              "\n",
              "          const docLinkHtml = 'Like what you see? Visit the ' +\n",
              "            '<a target=\"_blank\" href=https://colab.research.google.com/notebooks/data_table.ipynb>data table notebook</a>'\n",
              "            + ' to learn more about interactive tables.';\n",
              "          element.innerHTML = '';\n",
              "          dataTable['output_type'] = 'display_data';\n",
              "          await google.colab.output.renderOutput(dataTable, element);\n",
              "          const docLink = document.createElement('div');\n",
              "          docLink.innerHTML = docLinkHtml;\n",
              "          element.appendChild(docLink);\n",
              "        }\n",
              "      </script>\n",
              "    </div>\n",
              "  </div>\n",
              "  "
            ]
          },
          "metadata": {},
          "execution_count": 9
        }
      ],
      "source": [
        "# only keep business_id, stars, date and text columns\n",
        "dataset = dataset.drop(dataset.columns[[0, 1, 6, 7, 8]], axis=1)\n",
        "dataset.head(10)"
      ]
    },
    {
      "cell_type": "code",
      "execution_count": 10,
      "id": "015cdc95",
      "metadata": {
        "_kg_hide-input": true,
        "_uuid": "e28c128242dc87dec3360b2d3a2ab8536b06aee0",
        "colab": {
          "base_uri": "https://localhost:8080/",
          "height": 792
        },
        "id": "015cdc95",
        "outputId": "78ff27ea-5bf1-45ad-ab6f-b7c20cab3c12"
      },
      "outputs": [
        {
          "output_type": "execute_result",
          "data": {
            "text/plain": [
              "              business_id                        name neighborhood  \\\n",
              "0  FYWN1wneV18bWNgQjJ2GNg          \"Dental by Design\"          NaN   \n",
              "1  He-G7vWjzVUysIKrfNbPUQ       \"Stephen Szabo Salon\"          NaN   \n",
              "2  KQPW8lFf1y5BT2MxiSZ3QA     \"Western Motor Vehicle\"          NaN   \n",
              "3  8DShNS-LuFqpEWIp0HxijA          \"Sports Authority\"          NaN   \n",
              "4  PfOCPjBrlQAnz__NXj9h_w  \"Brick House Tavern + Tap\"          NaN   \n",
              "5  o9eMRCWt5PkpLDE0gOPtcQ                   \"Messina\"          NaN   \n",
              "6  kCoE3jvEtg6UVz5SOD3GVw                \"BDJ Realty\"    Summerlin   \n",
              "7  OD2hnuuTJI9uotcKycxg1A               \"Soccer Zone\"          NaN   \n",
              "8  EsMcGiZaQuG1OOvL9iUFug          \"Any Given Sundae\"          NaN   \n",
              "9  TGWhGNusxyMaA4kQVBNeew     \"Detailing Gone Mobile\"          NaN   \n",
              "\n",
              "                            address            city state postal_code  \\\n",
              "0        \"4855 E Warner Rd, Ste B9\"       Ahwatukee    AZ       85044   \n",
              "1              \"3101 Washington Rd\"        McMurray    PA       15317   \n",
              "2          \"6025 N 27th Ave, Ste 1\"         Phoenix    AZ       85017   \n",
              "3  \"5000 Arizona Mills Cr, Ste 435\"           Tempe    AZ       85282   \n",
              "4                    \"581 Howe Ave\"  Cuyahoga Falls    OH       44221   \n",
              "5                  \"Richterstr. 11\"       Stuttgart    BW       70567   \n",
              "6        \"2620 Regatta Dr, Ste 102\"       Las Vegas    NV       89128   \n",
              "7    \"7240 W Lake Mead Blvd, Ste 4\"       Las Vegas    NV       89128   \n",
              "8           \"2612 Brandt School Rd\"         Wexford    PA       15090   \n",
              "9                                \"\"       Henderson    NV       89014   \n",
              "\n",
              "    latitude   longitude  stars  review_count  is_open  \\\n",
              "0  33.330690 -111.978599    4.0            22        1   \n",
              "1  40.291685  -80.104900    3.0            11        1   \n",
              "2  33.524903 -112.115310    1.5            18        1   \n",
              "3  33.383147 -111.964725    3.0             9        0   \n",
              "4  41.119535  -81.475690    3.5           116        1   \n",
              "5  48.727200    9.147950    4.0             5        1   \n",
              "6  36.207430 -115.268460    4.0             5        1   \n",
              "7  36.197484 -115.249660    1.5             9        1   \n",
              "8  40.615102  -80.091349    5.0            15        1   \n",
              "9  36.055825 -115.046350    5.0             7        1   \n",
              "\n",
              "                                          categories  \n",
              "0  Dentists;General Dentistry;Health & Medical;Or...  \n",
              "1  Hair Stylists;Hair Salons;Men's Hair Salons;Bl...  \n",
              "2  Departments of Motor Vehicles;Public Services ...  \n",
              "3                            Sporting Goods;Shopping  \n",
              "4  American (New);Nightlife;Bars;Sandwiches;Ameri...  \n",
              "5                                Italian;Restaurants  \n",
              "6  Real Estate Services;Real Estate;Home Services...  \n",
              "7                            Shopping;Sporting Goods  \n",
              "8        Coffee & Tea;Ice Cream & Frozen Yogurt;Food  \n",
              "9                          Automotive;Auto Detailing  "
            ],
            "text/html": [
              "\n",
              "  <div id=\"df-6dd4cd7a-ee9e-4324-9ba4-74420e3596d3\">\n",
              "    <div class=\"colab-df-container\">\n",
              "      <div>\n",
              "<style scoped>\n",
              "    .dataframe tbody tr th:only-of-type {\n",
              "        vertical-align: middle;\n",
              "    }\n",
              "\n",
              "    .dataframe tbody tr th {\n",
              "        vertical-align: top;\n",
              "    }\n",
              "\n",
              "    .dataframe thead th {\n",
              "        text-align: right;\n",
              "    }\n",
              "</style>\n",
              "<table border=\"1\" class=\"dataframe\">\n",
              "  <thead>\n",
              "    <tr style=\"text-align: right;\">\n",
              "      <th></th>\n",
              "      <th>business_id</th>\n",
              "      <th>name</th>\n",
              "      <th>neighborhood</th>\n",
              "      <th>address</th>\n",
              "      <th>city</th>\n",
              "      <th>state</th>\n",
              "      <th>postal_code</th>\n",
              "      <th>latitude</th>\n",
              "      <th>longitude</th>\n",
              "      <th>stars</th>\n",
              "      <th>review_count</th>\n",
              "      <th>is_open</th>\n",
              "      <th>categories</th>\n",
              "    </tr>\n",
              "  </thead>\n",
              "  <tbody>\n",
              "    <tr>\n",
              "      <th>0</th>\n",
              "      <td>FYWN1wneV18bWNgQjJ2GNg</td>\n",
              "      <td>\"Dental by Design\"</td>\n",
              "      <td>NaN</td>\n",
              "      <td>\"4855 E Warner Rd, Ste B9\"</td>\n",
              "      <td>Ahwatukee</td>\n",
              "      <td>AZ</td>\n",
              "      <td>85044</td>\n",
              "      <td>33.330690</td>\n",
              "      <td>-111.978599</td>\n",
              "      <td>4.0</td>\n",
              "      <td>22</td>\n",
              "      <td>1</td>\n",
              "      <td>Dentists;General Dentistry;Health &amp; Medical;Or...</td>\n",
              "    </tr>\n",
              "    <tr>\n",
              "      <th>1</th>\n",
              "      <td>He-G7vWjzVUysIKrfNbPUQ</td>\n",
              "      <td>\"Stephen Szabo Salon\"</td>\n",
              "      <td>NaN</td>\n",
              "      <td>\"3101 Washington Rd\"</td>\n",
              "      <td>McMurray</td>\n",
              "      <td>PA</td>\n",
              "      <td>15317</td>\n",
              "      <td>40.291685</td>\n",
              "      <td>-80.104900</td>\n",
              "      <td>3.0</td>\n",
              "      <td>11</td>\n",
              "      <td>1</td>\n",
              "      <td>Hair Stylists;Hair Salons;Men's Hair Salons;Bl...</td>\n",
              "    </tr>\n",
              "    <tr>\n",
              "      <th>2</th>\n",
              "      <td>KQPW8lFf1y5BT2MxiSZ3QA</td>\n",
              "      <td>\"Western Motor Vehicle\"</td>\n",
              "      <td>NaN</td>\n",
              "      <td>\"6025 N 27th Ave, Ste 1\"</td>\n",
              "      <td>Phoenix</td>\n",
              "      <td>AZ</td>\n",
              "      <td>85017</td>\n",
              "      <td>33.524903</td>\n",
              "      <td>-112.115310</td>\n",
              "      <td>1.5</td>\n",
              "      <td>18</td>\n",
              "      <td>1</td>\n",
              "      <td>Departments of Motor Vehicles;Public Services ...</td>\n",
              "    </tr>\n",
              "    <tr>\n",
              "      <th>3</th>\n",
              "      <td>8DShNS-LuFqpEWIp0HxijA</td>\n",
              "      <td>\"Sports Authority\"</td>\n",
              "      <td>NaN</td>\n",
              "      <td>\"5000 Arizona Mills Cr, Ste 435\"</td>\n",
              "      <td>Tempe</td>\n",
              "      <td>AZ</td>\n",
              "      <td>85282</td>\n",
              "      <td>33.383147</td>\n",
              "      <td>-111.964725</td>\n",
              "      <td>3.0</td>\n",
              "      <td>9</td>\n",
              "      <td>0</td>\n",
              "      <td>Sporting Goods;Shopping</td>\n",
              "    </tr>\n",
              "    <tr>\n",
              "      <th>4</th>\n",
              "      <td>PfOCPjBrlQAnz__NXj9h_w</td>\n",
              "      <td>\"Brick House Tavern + Tap\"</td>\n",
              "      <td>NaN</td>\n",
              "      <td>\"581 Howe Ave\"</td>\n",
              "      <td>Cuyahoga Falls</td>\n",
              "      <td>OH</td>\n",
              "      <td>44221</td>\n",
              "      <td>41.119535</td>\n",
              "      <td>-81.475690</td>\n",
              "      <td>3.5</td>\n",
              "      <td>116</td>\n",
              "      <td>1</td>\n",
              "      <td>American (New);Nightlife;Bars;Sandwiches;Ameri...</td>\n",
              "    </tr>\n",
              "    <tr>\n",
              "      <th>5</th>\n",
              "      <td>o9eMRCWt5PkpLDE0gOPtcQ</td>\n",
              "      <td>\"Messina\"</td>\n",
              "      <td>NaN</td>\n",
              "      <td>\"Richterstr. 11\"</td>\n",
              "      <td>Stuttgart</td>\n",
              "      <td>BW</td>\n",
              "      <td>70567</td>\n",
              "      <td>48.727200</td>\n",
              "      <td>9.147950</td>\n",
              "      <td>4.0</td>\n",
              "      <td>5</td>\n",
              "      <td>1</td>\n",
              "      <td>Italian;Restaurants</td>\n",
              "    </tr>\n",
              "    <tr>\n",
              "      <th>6</th>\n",
              "      <td>kCoE3jvEtg6UVz5SOD3GVw</td>\n",
              "      <td>\"BDJ Realty\"</td>\n",
              "      <td>Summerlin</td>\n",
              "      <td>\"2620 Regatta Dr, Ste 102\"</td>\n",
              "      <td>Las Vegas</td>\n",
              "      <td>NV</td>\n",
              "      <td>89128</td>\n",
              "      <td>36.207430</td>\n",
              "      <td>-115.268460</td>\n",
              "      <td>4.0</td>\n",
              "      <td>5</td>\n",
              "      <td>1</td>\n",
              "      <td>Real Estate Services;Real Estate;Home Services...</td>\n",
              "    </tr>\n",
              "    <tr>\n",
              "      <th>7</th>\n",
              "      <td>OD2hnuuTJI9uotcKycxg1A</td>\n",
              "      <td>\"Soccer Zone\"</td>\n",
              "      <td>NaN</td>\n",
              "      <td>\"7240 W Lake Mead Blvd, Ste 4\"</td>\n",
              "      <td>Las Vegas</td>\n",
              "      <td>NV</td>\n",
              "      <td>89128</td>\n",
              "      <td>36.197484</td>\n",
              "      <td>-115.249660</td>\n",
              "      <td>1.5</td>\n",
              "      <td>9</td>\n",
              "      <td>1</td>\n",
              "      <td>Shopping;Sporting Goods</td>\n",
              "    </tr>\n",
              "    <tr>\n",
              "      <th>8</th>\n",
              "      <td>EsMcGiZaQuG1OOvL9iUFug</td>\n",
              "      <td>\"Any Given Sundae\"</td>\n",
              "      <td>NaN</td>\n",
              "      <td>\"2612 Brandt School Rd\"</td>\n",
              "      <td>Wexford</td>\n",
              "      <td>PA</td>\n",
              "      <td>15090</td>\n",
              "      <td>40.615102</td>\n",
              "      <td>-80.091349</td>\n",
              "      <td>5.0</td>\n",
              "      <td>15</td>\n",
              "      <td>1</td>\n",
              "      <td>Coffee &amp; Tea;Ice Cream &amp; Frozen Yogurt;Food</td>\n",
              "    </tr>\n",
              "    <tr>\n",
              "      <th>9</th>\n",
              "      <td>TGWhGNusxyMaA4kQVBNeew</td>\n",
              "      <td>\"Detailing Gone Mobile\"</td>\n",
              "      <td>NaN</td>\n",
              "      <td>\"\"</td>\n",
              "      <td>Henderson</td>\n",
              "      <td>NV</td>\n",
              "      <td>89014</td>\n",
              "      <td>36.055825</td>\n",
              "      <td>-115.046350</td>\n",
              "      <td>5.0</td>\n",
              "      <td>7</td>\n",
              "      <td>1</td>\n",
              "      <td>Automotive;Auto Detailing</td>\n",
              "    </tr>\n",
              "  </tbody>\n",
              "</table>\n",
              "</div>\n",
              "      <button class=\"colab-df-convert\" onclick=\"convertToInteractive('df-6dd4cd7a-ee9e-4324-9ba4-74420e3596d3')\"\n",
              "              title=\"Convert this dataframe to an interactive table.\"\n",
              "              style=\"display:none;\">\n",
              "        \n",
              "  <svg xmlns=\"http://www.w3.org/2000/svg\" height=\"24px\"viewBox=\"0 0 24 24\"\n",
              "       width=\"24px\">\n",
              "    <path d=\"M0 0h24v24H0V0z\" fill=\"none\"/>\n",
              "    <path d=\"M18.56 5.44l.94 2.06.94-2.06 2.06-.94-2.06-.94-.94-2.06-.94 2.06-2.06.94zm-11 1L8.5 8.5l.94-2.06 2.06-.94-2.06-.94L8.5 2.5l-.94 2.06-2.06.94zm10 10l.94 2.06.94-2.06 2.06-.94-2.06-.94-.94-2.06-.94 2.06-2.06.94z\"/><path d=\"M17.41 7.96l-1.37-1.37c-.4-.4-.92-.59-1.43-.59-.52 0-1.04.2-1.43.59L10.3 9.45l-7.72 7.72c-.78.78-.78 2.05 0 2.83L4 21.41c.39.39.9.59 1.41.59.51 0 1.02-.2 1.41-.59l7.78-7.78 2.81-2.81c.8-.78.8-2.07 0-2.86zM5.41 20L4 18.59l7.72-7.72 1.47 1.35L5.41 20z\"/>\n",
              "  </svg>\n",
              "      </button>\n",
              "      \n",
              "  <style>\n",
              "    .colab-df-container {\n",
              "      display:flex;\n",
              "      flex-wrap:wrap;\n",
              "      gap: 12px;\n",
              "    }\n",
              "\n",
              "    .colab-df-convert {\n",
              "      background-color: #E8F0FE;\n",
              "      border: none;\n",
              "      border-radius: 50%;\n",
              "      cursor: pointer;\n",
              "      display: none;\n",
              "      fill: #1967D2;\n",
              "      height: 32px;\n",
              "      padding: 0 0 0 0;\n",
              "      width: 32px;\n",
              "    }\n",
              "\n",
              "    .colab-df-convert:hover {\n",
              "      background-color: #E2EBFA;\n",
              "      box-shadow: 0px 1px 2px rgba(60, 64, 67, 0.3), 0px 1px 3px 1px rgba(60, 64, 67, 0.15);\n",
              "      fill: #174EA6;\n",
              "    }\n",
              "\n",
              "    [theme=dark] .colab-df-convert {\n",
              "      background-color: #3B4455;\n",
              "      fill: #D2E3FC;\n",
              "    }\n",
              "\n",
              "    [theme=dark] .colab-df-convert:hover {\n",
              "      background-color: #434B5C;\n",
              "      box-shadow: 0px 1px 3px 1px rgba(0, 0, 0, 0.15);\n",
              "      filter: drop-shadow(0px 1px 2px rgba(0, 0, 0, 0.3));\n",
              "      fill: #FFFFFF;\n",
              "    }\n",
              "  </style>\n",
              "\n",
              "      <script>\n",
              "        const buttonEl =\n",
              "          document.querySelector('#df-6dd4cd7a-ee9e-4324-9ba4-74420e3596d3 button.colab-df-convert');\n",
              "        buttonEl.style.display =\n",
              "          google.colab.kernel.accessAllowed ? 'block' : 'none';\n",
              "\n",
              "        async function convertToInteractive(key) {\n",
              "          const element = document.querySelector('#df-6dd4cd7a-ee9e-4324-9ba4-74420e3596d3');\n",
              "          const dataTable =\n",
              "            await google.colab.kernel.invokeFunction('convertToInteractive',\n",
              "                                                     [key], {});\n",
              "          if (!dataTable) return;\n",
              "\n",
              "          const docLinkHtml = 'Like what you see? Visit the ' +\n",
              "            '<a target=\"_blank\" href=https://colab.research.google.com/notebooks/data_table.ipynb>data table notebook</a>'\n",
              "            + ' to learn more about interactive tables.';\n",
              "          element.innerHTML = '';\n",
              "          dataTable['output_type'] = 'display_data';\n",
              "          await google.colab.output.renderOutput(dataTable, element);\n",
              "          const docLink = document.createElement('div');\n",
              "          docLink.innerHTML = docLinkHtml;\n",
              "          element.appendChild(docLink);\n",
              "        }\n",
              "      </script>\n",
              "    </div>\n",
              "  </div>\n",
              "  "
            ]
          },
          "metadata": {},
          "execution_count": 10
        }
      ],
      "source": [
        "business = pd.read_csv('/content/drive/MyDrive/Dataset/yelp_business.csv')\n",
        "business.head(10)"
      ]
    },
    {
      "cell_type": "code",
      "execution_count": 11,
      "id": "53618257",
      "metadata": {
        "_kg_hide-input": true,
        "_uuid": "e4e87b2effb543e763297849bd9096c491006f91",
        "scrolled": true,
        "colab": {
          "base_uri": "https://localhost:8080/",
          "height": 363
        },
        "id": "53618257",
        "outputId": "850de370-d9ed-4458-a377-d7a00713633e"
      },
      "outputs": [
        {
          "output_type": "execute_result",
          "data": {
            "text/plain": [
              "              business_id                        name            city  stars  \\\n",
              "0  FYWN1wneV18bWNgQjJ2GNg          \"Dental by Design\"       Ahwatukee    4.0   \n",
              "1  He-G7vWjzVUysIKrfNbPUQ       \"Stephen Szabo Salon\"        McMurray    3.0   \n",
              "2  KQPW8lFf1y5BT2MxiSZ3QA     \"Western Motor Vehicle\"         Phoenix    1.5   \n",
              "3  8DShNS-LuFqpEWIp0HxijA          \"Sports Authority\"           Tempe    3.0   \n",
              "4  PfOCPjBrlQAnz__NXj9h_w  \"Brick House Tavern + Tap\"  Cuyahoga Falls    3.5   \n",
              "5  o9eMRCWt5PkpLDE0gOPtcQ                   \"Messina\"       Stuttgart    4.0   \n",
              "6  kCoE3jvEtg6UVz5SOD3GVw                \"BDJ Realty\"       Las Vegas    4.0   \n",
              "7  OD2hnuuTJI9uotcKycxg1A               \"Soccer Zone\"       Las Vegas    1.5   \n",
              "8  EsMcGiZaQuG1OOvL9iUFug          \"Any Given Sundae\"         Wexford    5.0   \n",
              "9  TGWhGNusxyMaA4kQVBNeew     \"Detailing Gone Mobile\"       Henderson    5.0   \n",
              "\n",
              "   review_count                                         categories  \n",
              "0            22  Dentists;General Dentistry;Health & Medical;Or...  \n",
              "1            11  Hair Stylists;Hair Salons;Men's Hair Salons;Bl...  \n",
              "2            18  Departments of Motor Vehicles;Public Services ...  \n",
              "3             9                            Sporting Goods;Shopping  \n",
              "4           116  American (New);Nightlife;Bars;Sandwiches;Ameri...  \n",
              "5             5                                Italian;Restaurants  \n",
              "6             5  Real Estate Services;Real Estate;Home Services...  \n",
              "7             9                            Shopping;Sporting Goods  \n",
              "8            15        Coffee & Tea;Ice Cream & Frozen Yogurt;Food  \n",
              "9             7                          Automotive;Auto Detailing  "
            ],
            "text/html": [
              "\n",
              "  <div id=\"df-8bd5895c-445a-4208-a1e0-054fb2b115d7\">\n",
              "    <div class=\"colab-df-container\">\n",
              "      <div>\n",
              "<style scoped>\n",
              "    .dataframe tbody tr th:only-of-type {\n",
              "        vertical-align: middle;\n",
              "    }\n",
              "\n",
              "    .dataframe tbody tr th {\n",
              "        vertical-align: top;\n",
              "    }\n",
              "\n",
              "    .dataframe thead th {\n",
              "        text-align: right;\n",
              "    }\n",
              "</style>\n",
              "<table border=\"1\" class=\"dataframe\">\n",
              "  <thead>\n",
              "    <tr style=\"text-align: right;\">\n",
              "      <th></th>\n",
              "      <th>business_id</th>\n",
              "      <th>name</th>\n",
              "      <th>city</th>\n",
              "      <th>stars</th>\n",
              "      <th>review_count</th>\n",
              "      <th>categories</th>\n",
              "    </tr>\n",
              "  </thead>\n",
              "  <tbody>\n",
              "    <tr>\n",
              "      <th>0</th>\n",
              "      <td>FYWN1wneV18bWNgQjJ2GNg</td>\n",
              "      <td>\"Dental by Design\"</td>\n",
              "      <td>Ahwatukee</td>\n",
              "      <td>4.0</td>\n",
              "      <td>22</td>\n",
              "      <td>Dentists;General Dentistry;Health &amp; Medical;Or...</td>\n",
              "    </tr>\n",
              "    <tr>\n",
              "      <th>1</th>\n",
              "      <td>He-G7vWjzVUysIKrfNbPUQ</td>\n",
              "      <td>\"Stephen Szabo Salon\"</td>\n",
              "      <td>McMurray</td>\n",
              "      <td>3.0</td>\n",
              "      <td>11</td>\n",
              "      <td>Hair Stylists;Hair Salons;Men's Hair Salons;Bl...</td>\n",
              "    </tr>\n",
              "    <tr>\n",
              "      <th>2</th>\n",
              "      <td>KQPW8lFf1y5BT2MxiSZ3QA</td>\n",
              "      <td>\"Western Motor Vehicle\"</td>\n",
              "      <td>Phoenix</td>\n",
              "      <td>1.5</td>\n",
              "      <td>18</td>\n",
              "      <td>Departments of Motor Vehicles;Public Services ...</td>\n",
              "    </tr>\n",
              "    <tr>\n",
              "      <th>3</th>\n",
              "      <td>8DShNS-LuFqpEWIp0HxijA</td>\n",
              "      <td>\"Sports Authority\"</td>\n",
              "      <td>Tempe</td>\n",
              "      <td>3.0</td>\n",
              "      <td>9</td>\n",
              "      <td>Sporting Goods;Shopping</td>\n",
              "    </tr>\n",
              "    <tr>\n",
              "      <th>4</th>\n",
              "      <td>PfOCPjBrlQAnz__NXj9h_w</td>\n",
              "      <td>\"Brick House Tavern + Tap\"</td>\n",
              "      <td>Cuyahoga Falls</td>\n",
              "      <td>3.5</td>\n",
              "      <td>116</td>\n",
              "      <td>American (New);Nightlife;Bars;Sandwiches;Ameri...</td>\n",
              "    </tr>\n",
              "    <tr>\n",
              "      <th>5</th>\n",
              "      <td>o9eMRCWt5PkpLDE0gOPtcQ</td>\n",
              "      <td>\"Messina\"</td>\n",
              "      <td>Stuttgart</td>\n",
              "      <td>4.0</td>\n",
              "      <td>5</td>\n",
              "      <td>Italian;Restaurants</td>\n",
              "    </tr>\n",
              "    <tr>\n",
              "      <th>6</th>\n",
              "      <td>kCoE3jvEtg6UVz5SOD3GVw</td>\n",
              "      <td>\"BDJ Realty\"</td>\n",
              "      <td>Las Vegas</td>\n",
              "      <td>4.0</td>\n",
              "      <td>5</td>\n",
              "      <td>Real Estate Services;Real Estate;Home Services...</td>\n",
              "    </tr>\n",
              "    <tr>\n",
              "      <th>7</th>\n",
              "      <td>OD2hnuuTJI9uotcKycxg1A</td>\n",
              "      <td>\"Soccer Zone\"</td>\n",
              "      <td>Las Vegas</td>\n",
              "      <td>1.5</td>\n",
              "      <td>9</td>\n",
              "      <td>Shopping;Sporting Goods</td>\n",
              "    </tr>\n",
              "    <tr>\n",
              "      <th>8</th>\n",
              "      <td>EsMcGiZaQuG1OOvL9iUFug</td>\n",
              "      <td>\"Any Given Sundae\"</td>\n",
              "      <td>Wexford</td>\n",
              "      <td>5.0</td>\n",
              "      <td>15</td>\n",
              "      <td>Coffee &amp; Tea;Ice Cream &amp; Frozen Yogurt;Food</td>\n",
              "    </tr>\n",
              "    <tr>\n",
              "      <th>9</th>\n",
              "      <td>TGWhGNusxyMaA4kQVBNeew</td>\n",
              "      <td>\"Detailing Gone Mobile\"</td>\n",
              "      <td>Henderson</td>\n",
              "      <td>5.0</td>\n",
              "      <td>7</td>\n",
              "      <td>Automotive;Auto Detailing</td>\n",
              "    </tr>\n",
              "  </tbody>\n",
              "</table>\n",
              "</div>\n",
              "      <button class=\"colab-df-convert\" onclick=\"convertToInteractive('df-8bd5895c-445a-4208-a1e0-054fb2b115d7')\"\n",
              "              title=\"Convert this dataframe to an interactive table.\"\n",
              "              style=\"display:none;\">\n",
              "        \n",
              "  <svg xmlns=\"http://www.w3.org/2000/svg\" height=\"24px\"viewBox=\"0 0 24 24\"\n",
              "       width=\"24px\">\n",
              "    <path d=\"M0 0h24v24H0V0z\" fill=\"none\"/>\n",
              "    <path d=\"M18.56 5.44l.94 2.06.94-2.06 2.06-.94-2.06-.94-.94-2.06-.94 2.06-2.06.94zm-11 1L8.5 8.5l.94-2.06 2.06-.94-2.06-.94L8.5 2.5l-.94 2.06-2.06.94zm10 10l.94 2.06.94-2.06 2.06-.94-2.06-.94-.94-2.06-.94 2.06-2.06.94z\"/><path d=\"M17.41 7.96l-1.37-1.37c-.4-.4-.92-.59-1.43-.59-.52 0-1.04.2-1.43.59L10.3 9.45l-7.72 7.72c-.78.78-.78 2.05 0 2.83L4 21.41c.39.39.9.59 1.41.59.51 0 1.02-.2 1.41-.59l7.78-7.78 2.81-2.81c.8-.78.8-2.07 0-2.86zM5.41 20L4 18.59l7.72-7.72 1.47 1.35L5.41 20z\"/>\n",
              "  </svg>\n",
              "      </button>\n",
              "      \n",
              "  <style>\n",
              "    .colab-df-container {\n",
              "      display:flex;\n",
              "      flex-wrap:wrap;\n",
              "      gap: 12px;\n",
              "    }\n",
              "\n",
              "    .colab-df-convert {\n",
              "      background-color: #E8F0FE;\n",
              "      border: none;\n",
              "      border-radius: 50%;\n",
              "      cursor: pointer;\n",
              "      display: none;\n",
              "      fill: #1967D2;\n",
              "      height: 32px;\n",
              "      padding: 0 0 0 0;\n",
              "      width: 32px;\n",
              "    }\n",
              "\n",
              "    .colab-df-convert:hover {\n",
              "      background-color: #E2EBFA;\n",
              "      box-shadow: 0px 1px 2px rgba(60, 64, 67, 0.3), 0px 1px 3px 1px rgba(60, 64, 67, 0.15);\n",
              "      fill: #174EA6;\n",
              "    }\n",
              "\n",
              "    [theme=dark] .colab-df-convert {\n",
              "      background-color: #3B4455;\n",
              "      fill: #D2E3FC;\n",
              "    }\n",
              "\n",
              "    [theme=dark] .colab-df-convert:hover {\n",
              "      background-color: #434B5C;\n",
              "      box-shadow: 0px 1px 3px 1px rgba(0, 0, 0, 0.15);\n",
              "      filter: drop-shadow(0px 1px 2px rgba(0, 0, 0, 0.3));\n",
              "      fill: #FFFFFF;\n",
              "    }\n",
              "  </style>\n",
              "\n",
              "      <script>\n",
              "        const buttonEl =\n",
              "          document.querySelector('#df-8bd5895c-445a-4208-a1e0-054fb2b115d7 button.colab-df-convert');\n",
              "        buttonEl.style.display =\n",
              "          google.colab.kernel.accessAllowed ? 'block' : 'none';\n",
              "\n",
              "        async function convertToInteractive(key) {\n",
              "          const element = document.querySelector('#df-8bd5895c-445a-4208-a1e0-054fb2b115d7');\n",
              "          const dataTable =\n",
              "            await google.colab.kernel.invokeFunction('convertToInteractive',\n",
              "                                                     [key], {});\n",
              "          if (!dataTable) return;\n",
              "\n",
              "          const docLinkHtml = 'Like what you see? Visit the ' +\n",
              "            '<a target=\"_blank\" href=https://colab.research.google.com/notebooks/data_table.ipynb>data table notebook</a>'\n",
              "            + ' to learn more about interactive tables.';\n",
              "          element.innerHTML = '';\n",
              "          dataTable['output_type'] = 'display_data';\n",
              "          await google.colab.output.renderOutput(dataTable, element);\n",
              "          const docLink = document.createElement('div');\n",
              "          docLink.innerHTML = docLinkHtml;\n",
              "          element.appendChild(docLink);\n",
              "        }\n",
              "      </script>\n",
              "    </div>\n",
              "  </div>\n",
              "  "
            ]
          },
          "metadata": {},
          "execution_count": 11
        }
      ],
      "source": [
        "# remove unecessary columns\n",
        "business = business.drop(business.columns[[2, 3, 5, 6, 7, 8, 11]], axis=1)\n",
        "business.head(10)"
      ]
    },
    {
      "cell_type": "code",
      "execution_count": 12,
      "id": "8a6b139b",
      "metadata": {
        "_kg_hide-input": true,
        "_uuid": "a13c2db59fa2961a9c2145a641adba0db7b40f97",
        "colab": {
          "base_uri": "https://localhost:8080/",
          "height": 363
        },
        "id": "8a6b139b",
        "outputId": "1b738b7b-f532-4150-9436-b36fbb9e0c25"
      },
      "outputs": [
        {
          "output_type": "execute_result",
          "data": {
            "text/plain": [
              "               business_id                          name            city  \\\n",
              "4   PfOCPjBrlQAnz__NXj9h_w    \"Brick House Tavern + Tap\"  Cuyahoga Falls   \n",
              "5   o9eMRCWt5PkpLDE0gOPtcQ                     \"Messina\"       Stuttgart   \n",
              "10  XOSRcvtaKc_Q5H1SAzN20A           \"East Coast Coffee\"         Houston   \n",
              "14  fNMVV_ZX7CJSDWQGdOM8Nw  \"Showmars Government Center\"       Charlotte   \n",
              "15  l09JfMeQ6ynYs5MCJtrcmQ              \"Alize Catering\"         Toronto   \n",
              "19  Gu-xs3NIQTj3Mj2xYoN2aw   \"Maxim Bakery & Restaurant\"   Richmond Hill   \n",
              "25  1K4qrnfyzKzGgJPBEcJaNQ      \"Chula Taberna Mexicana\"         Toronto   \n",
              "28  Dj0S-Oe4ytRJzMGUPgYUkw                \"Panera Bread\"          Elyria   \n",
              "29  gAy4LYpsScrj8POnCW6btQ                  \"Toast Cafe\"       Fort Mill   \n",
              "30  nbhBRhZtdaZmMMeb2i02pg             \"Sunnyside Grill\"         Toronto   \n",
              "\n",
              "    stars  review_count                                         categories  \n",
              "4     3.5           116  American (New);Nightlife;Bars;Sandwiches;Ameri...  \n",
              "5     4.0             5                                Italian;Restaurants  \n",
              "10    4.5             3  Breakfast & Brunch;Gluten-Free;Coffee & Tea;Fo...  \n",
              "14    3.5             7                 Restaurants;American (Traditional)  \n",
              "15    3.0            12                         Italian;French;Restaurants  \n",
              "19    3.5            34                   French;Food;Bakeries;Restaurants  \n",
              "25    3.5            39       Tiki Bars;Nightlife;Mexican;Restaurants;Bars  \n",
              "28    2.0             4                  Soup;Salad;Sandwiches;Restaurants  \n",
              "29    3.5             6  Food;American (Traditional);Coffee & Tea;Resta...  \n",
              "30    5.0             3                     Restaurants;Breakfast & Brunch  "
            ],
            "text/html": [
              "\n",
              "  <div id=\"df-621a2bd8-8f97-448f-a137-c049546ff9be\">\n",
              "    <div class=\"colab-df-container\">\n",
              "      <div>\n",
              "<style scoped>\n",
              "    .dataframe tbody tr th:only-of-type {\n",
              "        vertical-align: middle;\n",
              "    }\n",
              "\n",
              "    .dataframe tbody tr th {\n",
              "        vertical-align: top;\n",
              "    }\n",
              "\n",
              "    .dataframe thead th {\n",
              "        text-align: right;\n",
              "    }\n",
              "</style>\n",
              "<table border=\"1\" class=\"dataframe\">\n",
              "  <thead>\n",
              "    <tr style=\"text-align: right;\">\n",
              "      <th></th>\n",
              "      <th>business_id</th>\n",
              "      <th>name</th>\n",
              "      <th>city</th>\n",
              "      <th>stars</th>\n",
              "      <th>review_count</th>\n",
              "      <th>categories</th>\n",
              "    </tr>\n",
              "  </thead>\n",
              "  <tbody>\n",
              "    <tr>\n",
              "      <th>4</th>\n",
              "      <td>PfOCPjBrlQAnz__NXj9h_w</td>\n",
              "      <td>\"Brick House Tavern + Tap\"</td>\n",
              "      <td>Cuyahoga Falls</td>\n",
              "      <td>3.5</td>\n",
              "      <td>116</td>\n",
              "      <td>American (New);Nightlife;Bars;Sandwiches;Ameri...</td>\n",
              "    </tr>\n",
              "    <tr>\n",
              "      <th>5</th>\n",
              "      <td>o9eMRCWt5PkpLDE0gOPtcQ</td>\n",
              "      <td>\"Messina\"</td>\n",
              "      <td>Stuttgart</td>\n",
              "      <td>4.0</td>\n",
              "      <td>5</td>\n",
              "      <td>Italian;Restaurants</td>\n",
              "    </tr>\n",
              "    <tr>\n",
              "      <th>10</th>\n",
              "      <td>XOSRcvtaKc_Q5H1SAzN20A</td>\n",
              "      <td>\"East Coast Coffee\"</td>\n",
              "      <td>Houston</td>\n",
              "      <td>4.5</td>\n",
              "      <td>3</td>\n",
              "      <td>Breakfast &amp; Brunch;Gluten-Free;Coffee &amp; Tea;Fo...</td>\n",
              "    </tr>\n",
              "    <tr>\n",
              "      <th>14</th>\n",
              "      <td>fNMVV_ZX7CJSDWQGdOM8Nw</td>\n",
              "      <td>\"Showmars Government Center\"</td>\n",
              "      <td>Charlotte</td>\n",
              "      <td>3.5</td>\n",
              "      <td>7</td>\n",
              "      <td>Restaurants;American (Traditional)</td>\n",
              "    </tr>\n",
              "    <tr>\n",
              "      <th>15</th>\n",
              "      <td>l09JfMeQ6ynYs5MCJtrcmQ</td>\n",
              "      <td>\"Alize Catering\"</td>\n",
              "      <td>Toronto</td>\n",
              "      <td>3.0</td>\n",
              "      <td>12</td>\n",
              "      <td>Italian;French;Restaurants</td>\n",
              "    </tr>\n",
              "    <tr>\n",
              "      <th>19</th>\n",
              "      <td>Gu-xs3NIQTj3Mj2xYoN2aw</td>\n",
              "      <td>\"Maxim Bakery &amp; Restaurant\"</td>\n",
              "      <td>Richmond Hill</td>\n",
              "      <td>3.5</td>\n",
              "      <td>34</td>\n",
              "      <td>French;Food;Bakeries;Restaurants</td>\n",
              "    </tr>\n",
              "    <tr>\n",
              "      <th>25</th>\n",
              "      <td>1K4qrnfyzKzGgJPBEcJaNQ</td>\n",
              "      <td>\"Chula Taberna Mexicana\"</td>\n",
              "      <td>Toronto</td>\n",
              "      <td>3.5</td>\n",
              "      <td>39</td>\n",
              "      <td>Tiki Bars;Nightlife;Mexican;Restaurants;Bars</td>\n",
              "    </tr>\n",
              "    <tr>\n",
              "      <th>28</th>\n",
              "      <td>Dj0S-Oe4ytRJzMGUPgYUkw</td>\n",
              "      <td>\"Panera Bread\"</td>\n",
              "      <td>Elyria</td>\n",
              "      <td>2.0</td>\n",
              "      <td>4</td>\n",
              "      <td>Soup;Salad;Sandwiches;Restaurants</td>\n",
              "    </tr>\n",
              "    <tr>\n",
              "      <th>29</th>\n",
              "      <td>gAy4LYpsScrj8POnCW6btQ</td>\n",
              "      <td>\"Toast Cafe\"</td>\n",
              "      <td>Fort Mill</td>\n",
              "      <td>3.5</td>\n",
              "      <td>6</td>\n",
              "      <td>Food;American (Traditional);Coffee &amp; Tea;Resta...</td>\n",
              "    </tr>\n",
              "    <tr>\n",
              "      <th>30</th>\n",
              "      <td>nbhBRhZtdaZmMMeb2i02pg</td>\n",
              "      <td>\"Sunnyside Grill\"</td>\n",
              "      <td>Toronto</td>\n",
              "      <td>5.0</td>\n",
              "      <td>3</td>\n",
              "      <td>Restaurants;Breakfast &amp; Brunch</td>\n",
              "    </tr>\n",
              "  </tbody>\n",
              "</table>\n",
              "</div>\n",
              "      <button class=\"colab-df-convert\" onclick=\"convertToInteractive('df-621a2bd8-8f97-448f-a137-c049546ff9be')\"\n",
              "              title=\"Convert this dataframe to an interactive table.\"\n",
              "              style=\"display:none;\">\n",
              "        \n",
              "  <svg xmlns=\"http://www.w3.org/2000/svg\" height=\"24px\"viewBox=\"0 0 24 24\"\n",
              "       width=\"24px\">\n",
              "    <path d=\"M0 0h24v24H0V0z\" fill=\"none\"/>\n",
              "    <path d=\"M18.56 5.44l.94 2.06.94-2.06 2.06-.94-2.06-.94-.94-2.06-.94 2.06-2.06.94zm-11 1L8.5 8.5l.94-2.06 2.06-.94-2.06-.94L8.5 2.5l-.94 2.06-2.06.94zm10 10l.94 2.06.94-2.06 2.06-.94-2.06-.94-.94-2.06-.94 2.06-2.06.94z\"/><path d=\"M17.41 7.96l-1.37-1.37c-.4-.4-.92-.59-1.43-.59-.52 0-1.04.2-1.43.59L10.3 9.45l-7.72 7.72c-.78.78-.78 2.05 0 2.83L4 21.41c.39.39.9.59 1.41.59.51 0 1.02-.2 1.41-.59l7.78-7.78 2.81-2.81c.8-.78.8-2.07 0-2.86zM5.41 20L4 18.59l7.72-7.72 1.47 1.35L5.41 20z\"/>\n",
              "  </svg>\n",
              "      </button>\n",
              "      \n",
              "  <style>\n",
              "    .colab-df-container {\n",
              "      display:flex;\n",
              "      flex-wrap:wrap;\n",
              "      gap: 12px;\n",
              "    }\n",
              "\n",
              "    .colab-df-convert {\n",
              "      background-color: #E8F0FE;\n",
              "      border: none;\n",
              "      border-radius: 50%;\n",
              "      cursor: pointer;\n",
              "      display: none;\n",
              "      fill: #1967D2;\n",
              "      height: 32px;\n",
              "      padding: 0 0 0 0;\n",
              "      width: 32px;\n",
              "    }\n",
              "\n",
              "    .colab-df-convert:hover {\n",
              "      background-color: #E2EBFA;\n",
              "      box-shadow: 0px 1px 2px rgba(60, 64, 67, 0.3), 0px 1px 3px 1px rgba(60, 64, 67, 0.15);\n",
              "      fill: #174EA6;\n",
              "    }\n",
              "\n",
              "    [theme=dark] .colab-df-convert {\n",
              "      background-color: #3B4455;\n",
              "      fill: #D2E3FC;\n",
              "    }\n",
              "\n",
              "    [theme=dark] .colab-df-convert:hover {\n",
              "      background-color: #434B5C;\n",
              "      box-shadow: 0px 1px 3px 1px rgba(0, 0, 0, 0.15);\n",
              "      filter: drop-shadow(0px 1px 2px rgba(0, 0, 0, 0.3));\n",
              "      fill: #FFFFFF;\n",
              "    }\n",
              "  </style>\n",
              "\n",
              "      <script>\n",
              "        const buttonEl =\n",
              "          document.querySelector('#df-621a2bd8-8f97-448f-a137-c049546ff9be button.colab-df-convert');\n",
              "        buttonEl.style.display =\n",
              "          google.colab.kernel.accessAllowed ? 'block' : 'none';\n",
              "\n",
              "        async function convertToInteractive(key) {\n",
              "          const element = document.querySelector('#df-621a2bd8-8f97-448f-a137-c049546ff9be');\n",
              "          const dataTable =\n",
              "            await google.colab.kernel.invokeFunction('convertToInteractive',\n",
              "                                                     [key], {});\n",
              "          if (!dataTable) return;\n",
              "\n",
              "          const docLinkHtml = 'Like what you see? Visit the ' +\n",
              "            '<a target=\"_blank\" href=https://colab.research.google.com/notebooks/data_table.ipynb>data table notebook</a>'\n",
              "            + ' to learn more about interactive tables.';\n",
              "          element.innerHTML = '';\n",
              "          dataTable['output_type'] = 'display_data';\n",
              "          await google.colab.output.renderOutput(dataTable, element);\n",
              "          const docLink = document.createElement('div');\n",
              "          docLink.innerHTML = docLinkHtml;\n",
              "          element.appendChild(docLink);\n",
              "        }\n",
              "      </script>\n",
              "    </div>\n",
              "  </div>\n",
              "  "
            ]
          },
          "metadata": {},
          "execution_count": 12
        }
      ],
      "source": [
        "business = business[business.categories.str.contains(\"Restaurant\")]\n",
        "business.head(10)"
      ]
    },
    {
      "cell_type": "code",
      "execution_count": 13,
      "id": "6a25400c",
      "metadata": {
        "colab": {
          "base_uri": "https://localhost:8080/",
          "height": 363
        },
        "id": "6a25400c",
        "outputId": "8107084a-5e66-4e39-f0cc-2961d8fb82c1"
      },
      "outputs": [
        {
          "output_type": "execute_result",
          "data": {
            "text/plain": [
              "               business_id  stars        date  \\\n",
              "0   AEx2SYEUJmTxVVB18LlCwA      5  2016-05-28   \n",
              "1   VR6GpWIda3SfvPC-lg9H3w      5  2016-05-28   \n",
              "2   CKC0-MOWMqoeWf6s-szl8g      5  2016-05-28   \n",
              "3   ACFtxLv8pGrrxMm6EgjreA      4  2016-05-28   \n",
              "4   s2I_Ni76bjJNK9yG60iD-Q      4  2016-05-28   \n",
              "6   9_CGhHMz8698M9-PkVf0CQ      4  2012-05-11   \n",
              "8   5r6-G9C4YLbC7Ziz57l3rQ      3  2013-02-09   \n",
              "10  z8oIoCT1cXz7gZP5GeU5OA      4  2013-05-01   \n",
              "11  XWTPNfskXoUL-Lf32wSk0Q      3  2011-09-28   \n",
              "13  RtUvSWO_UZ8V3Wpj0n077w      3  2012-12-03   \n",
              "\n",
              "                                                 text  \n",
              "0   Super simple place but amazing nonetheless. It...  \n",
              "1   Small unassuming place that changes their menu...  \n",
              "2   Lester's is located in a beautiful neighborhoo...  \n",
              "3   Love coming here. Yes the place always needs t...  \n",
              "4   Had their chocolate almond croissant and it wa...  \n",
              "6   Who would have guess that you would be able to...  \n",
              "8   Not bad!! Love that there is a gluten-free, ve...  \n",
              "10  This is currently my parents new favourite res...  \n",
              "11  Server was a little rude.\\n\\nOrdered the calam...  \n",
              "13  Wanted to check out this place due to all the ...  "
            ],
            "text/html": [
              "\n",
              "  <div id=\"df-d02d272f-7a16-42ae-93a5-f0287a38e80a\">\n",
              "    <div class=\"colab-df-container\">\n",
              "      <div>\n",
              "<style scoped>\n",
              "    .dataframe tbody tr th:only-of-type {\n",
              "        vertical-align: middle;\n",
              "    }\n",
              "\n",
              "    .dataframe tbody tr th {\n",
              "        vertical-align: top;\n",
              "    }\n",
              "\n",
              "    .dataframe thead th {\n",
              "        text-align: right;\n",
              "    }\n",
              "</style>\n",
              "<table border=\"1\" class=\"dataframe\">\n",
              "  <thead>\n",
              "    <tr style=\"text-align: right;\">\n",
              "      <th></th>\n",
              "      <th>business_id</th>\n",
              "      <th>stars</th>\n",
              "      <th>date</th>\n",
              "      <th>text</th>\n",
              "    </tr>\n",
              "  </thead>\n",
              "  <tbody>\n",
              "    <tr>\n",
              "      <th>0</th>\n",
              "      <td>AEx2SYEUJmTxVVB18LlCwA</td>\n",
              "      <td>5</td>\n",
              "      <td>2016-05-28</td>\n",
              "      <td>Super simple place but amazing nonetheless. It...</td>\n",
              "    </tr>\n",
              "    <tr>\n",
              "      <th>1</th>\n",
              "      <td>VR6GpWIda3SfvPC-lg9H3w</td>\n",
              "      <td>5</td>\n",
              "      <td>2016-05-28</td>\n",
              "      <td>Small unassuming place that changes their menu...</td>\n",
              "    </tr>\n",
              "    <tr>\n",
              "      <th>2</th>\n",
              "      <td>CKC0-MOWMqoeWf6s-szl8g</td>\n",
              "      <td>5</td>\n",
              "      <td>2016-05-28</td>\n",
              "      <td>Lester's is located in a beautiful neighborhoo...</td>\n",
              "    </tr>\n",
              "    <tr>\n",
              "      <th>3</th>\n",
              "      <td>ACFtxLv8pGrrxMm6EgjreA</td>\n",
              "      <td>4</td>\n",
              "      <td>2016-05-28</td>\n",
              "      <td>Love coming here. Yes the place always needs t...</td>\n",
              "    </tr>\n",
              "    <tr>\n",
              "      <th>4</th>\n",
              "      <td>s2I_Ni76bjJNK9yG60iD-Q</td>\n",
              "      <td>4</td>\n",
              "      <td>2016-05-28</td>\n",
              "      <td>Had their chocolate almond croissant and it wa...</td>\n",
              "    </tr>\n",
              "    <tr>\n",
              "      <th>6</th>\n",
              "      <td>9_CGhHMz8698M9-PkVf0CQ</td>\n",
              "      <td>4</td>\n",
              "      <td>2012-05-11</td>\n",
              "      <td>Who would have guess that you would be able to...</td>\n",
              "    </tr>\n",
              "    <tr>\n",
              "      <th>8</th>\n",
              "      <td>5r6-G9C4YLbC7Ziz57l3rQ</td>\n",
              "      <td>3</td>\n",
              "      <td>2013-02-09</td>\n",
              "      <td>Not bad!! Love that there is a gluten-free, ve...</td>\n",
              "    </tr>\n",
              "    <tr>\n",
              "      <th>10</th>\n",
              "      <td>z8oIoCT1cXz7gZP5GeU5OA</td>\n",
              "      <td>4</td>\n",
              "      <td>2013-05-01</td>\n",
              "      <td>This is currently my parents new favourite res...</td>\n",
              "    </tr>\n",
              "    <tr>\n",
              "      <th>11</th>\n",
              "      <td>XWTPNfskXoUL-Lf32wSk0Q</td>\n",
              "      <td>3</td>\n",
              "      <td>2011-09-28</td>\n",
              "      <td>Server was a little rude.\\n\\nOrdered the calam...</td>\n",
              "    </tr>\n",
              "    <tr>\n",
              "      <th>13</th>\n",
              "      <td>RtUvSWO_UZ8V3Wpj0n077w</td>\n",
              "      <td>3</td>\n",
              "      <td>2012-12-03</td>\n",
              "      <td>Wanted to check out this place due to all the ...</td>\n",
              "    </tr>\n",
              "  </tbody>\n",
              "</table>\n",
              "</div>\n",
              "      <button class=\"colab-df-convert\" onclick=\"convertToInteractive('df-d02d272f-7a16-42ae-93a5-f0287a38e80a')\"\n",
              "              title=\"Convert this dataframe to an interactive table.\"\n",
              "              style=\"display:none;\">\n",
              "        \n",
              "  <svg xmlns=\"http://www.w3.org/2000/svg\" height=\"24px\"viewBox=\"0 0 24 24\"\n",
              "       width=\"24px\">\n",
              "    <path d=\"M0 0h24v24H0V0z\" fill=\"none\"/>\n",
              "    <path d=\"M18.56 5.44l.94 2.06.94-2.06 2.06-.94-2.06-.94-.94-2.06-.94 2.06-2.06.94zm-11 1L8.5 8.5l.94-2.06 2.06-.94-2.06-.94L8.5 2.5l-.94 2.06-2.06.94zm10 10l.94 2.06.94-2.06 2.06-.94-2.06-.94-.94-2.06-.94 2.06-2.06.94z\"/><path d=\"M17.41 7.96l-1.37-1.37c-.4-.4-.92-.59-1.43-.59-.52 0-1.04.2-1.43.59L10.3 9.45l-7.72 7.72c-.78.78-.78 2.05 0 2.83L4 21.41c.39.39.9.59 1.41.59.51 0 1.02-.2 1.41-.59l7.78-7.78 2.81-2.81c.8-.78.8-2.07 0-2.86zM5.41 20L4 18.59l7.72-7.72 1.47 1.35L5.41 20z\"/>\n",
              "  </svg>\n",
              "      </button>\n",
              "      \n",
              "  <style>\n",
              "    .colab-df-container {\n",
              "      display:flex;\n",
              "      flex-wrap:wrap;\n",
              "      gap: 12px;\n",
              "    }\n",
              "\n",
              "    .colab-df-convert {\n",
              "      background-color: #E8F0FE;\n",
              "      border: none;\n",
              "      border-radius: 50%;\n",
              "      cursor: pointer;\n",
              "      display: none;\n",
              "      fill: #1967D2;\n",
              "      height: 32px;\n",
              "      padding: 0 0 0 0;\n",
              "      width: 32px;\n",
              "    }\n",
              "\n",
              "    .colab-df-convert:hover {\n",
              "      background-color: #E2EBFA;\n",
              "      box-shadow: 0px 1px 2px rgba(60, 64, 67, 0.3), 0px 1px 3px 1px rgba(60, 64, 67, 0.15);\n",
              "      fill: #174EA6;\n",
              "    }\n",
              "\n",
              "    [theme=dark] .colab-df-convert {\n",
              "      background-color: #3B4455;\n",
              "      fill: #D2E3FC;\n",
              "    }\n",
              "\n",
              "    [theme=dark] .colab-df-convert:hover {\n",
              "      background-color: #434B5C;\n",
              "      box-shadow: 0px 1px 3px 1px rgba(0, 0, 0, 0.15);\n",
              "      filter: drop-shadow(0px 1px 2px rgba(0, 0, 0, 0.3));\n",
              "      fill: #FFFFFF;\n",
              "    }\n",
              "  </style>\n",
              "\n",
              "      <script>\n",
              "        const buttonEl =\n",
              "          document.querySelector('#df-d02d272f-7a16-42ae-93a5-f0287a38e80a button.colab-df-convert');\n",
              "        buttonEl.style.display =\n",
              "          google.colab.kernel.accessAllowed ? 'block' : 'none';\n",
              "\n",
              "        async function convertToInteractive(key) {\n",
              "          const element = document.querySelector('#df-d02d272f-7a16-42ae-93a5-f0287a38e80a');\n",
              "          const dataTable =\n",
              "            await google.colab.kernel.invokeFunction('convertToInteractive',\n",
              "                                                     [key], {});\n",
              "          if (!dataTable) return;\n",
              "\n",
              "          const docLinkHtml = 'Like what you see? Visit the ' +\n",
              "            '<a target=\"_blank\" href=https://colab.research.google.com/notebooks/data_table.ipynb>data table notebook</a>'\n",
              "            + ' to learn more about interactive tables.';\n",
              "          element.innerHTML = '';\n",
              "          dataTable['output_type'] = 'display_data';\n",
              "          await google.colab.output.renderOutput(dataTable, element);\n",
              "          const docLink = document.createElement('div');\n",
              "          docLink.innerHTML = docLinkHtml;\n",
              "          element.appendChild(docLink);\n",
              "        }\n",
              "      </script>\n",
              "    </div>\n",
              "  </div>\n",
              "  "
            ]
          },
          "metadata": {},
          "execution_count": 13
        }
      ],
      "source": [
        "dataset = dataset[dataset.business_id.isin(business.business_id)]\n",
        "dataset.head(10)"
      ]
    },
    {
      "cell_type": "code",
      "execution_count": 14,
      "id": "fd416b1c",
      "metadata": {
        "_uuid": "da13451025fd3a06f141ebea9801ee04f3ac37fb",
        "colab": {
          "base_uri": "https://localhost:8080/"
        },
        "id": "fd416b1c",
        "outputId": "12c55d87-2f6e-4c37-dd14-a34f9caa3806"
      },
      "outputs": [
        {
          "output_type": "execute_result",
          "data": {
            "text/plain": [
              "58.96337177375069"
            ]
          },
          "metadata": {},
          "execution_count": 14
        }
      ],
      "source": [
        "mean(business['review_count'])"
      ]
    },
    {
      "cell_type": "markdown",
      "id": "a0848eb5",
      "metadata": {
        "_uuid": "716e652979612ba723e033c2604f235a24591b5c",
        "id": "a0848eb5"
      },
      "source": [
        "We now want to look at is the distribution of stars."
      ]
    },
    {
      "cell_type": "code",
      "execution_count": 15,
      "id": "00f2437d",
      "metadata": {
        "_kg_hide-input": true,
        "_uuid": "2b26b10710dbd5c3d2005054290368ed750555e2",
        "colab": {
          "base_uri": "https://localhost:8080/",
          "height": 291
        },
        "id": "00f2437d",
        "outputId": "79687aad-ff41-4c0f-f7a3-fbeda5a70c80"
      },
      "outputs": [
        {
          "output_type": "execute_result",
          "data": {
            "text/plain": [
              "<matplotlib.axes._subplots.AxesSubplot at 0x7fbc2f1cf290>"
            ]
          },
          "metadata": {},
          "execution_count": 15
        },
        {
          "output_type": "display_data",
          "data": {
            "text/plain": [
              "<Figure size 432x288 with 1 Axes>"
            ],
            "image/png": "[encoded data removed]"
          },
          "metadata": {
            "needs_background": "light"
          }
        }
      ],
      "source": [
        "dataset['stars'].value_counts().plot(kind='bar')"
      ]
    },
    {
      "cell_type": "code",
      "execution_count": 16,
      "id": "5fe8688f",
      "metadata": {
        "colab": {
          "base_uri": "https://localhost:8080/"
        },
        "id": "5fe8688f",
        "outputId": "7baed96e-35e6-4ced-a895-a0b7545db634"
      },
      "outputs": [
        {
          "output_type": "execute_result",
          "data": {
            "text/plain": [
              "4JNXUYY8wbaaDmk3BPzlWw    7362\n",
              "Name: business_id, dtype: int64"
            ]
          },
          "metadata": {},
          "execution_count": 16
        }
      ],
      "source": [
        "dataset['business_id'].value_counts()[:1]"
      ]
    },
    {
      "cell_type": "markdown",
      "id": "ebab4b39",
      "metadata": {
        "_uuid": "efefb8b54e3dc3aeb191fd4282f48026f51802ec",
        "id": "ebab4b39"
      },
      "source": [
        "We notice that **5-star reviews are the most popular**, and also that **1-star reviews are more common than 2- or 3-star reviews.** We can assume that customers will go through the trouble of leaving a review only if they were highly impressed or highly disappointed."
      ]
    },
    {
      "cell_type": "code",
      "execution_count": 17,
      "id": "1773516e",
      "metadata": {
        "colab": {
          "base_uri": "https://localhost:8080/",
          "height": 424
        },
        "id": "1773516e",
        "outputId": "44c6c728-0276-4352-855c-ea885bd4ba56"
      },
      "outputs": [
        {
          "output_type": "execute_result",
          "data": {
            "text/plain": [
              "                    business_id  stars        date  \\\n",
              "1720     4JNXUYY8wbaaDmk3BPzlWw      4  2017-10-25   \n",
              "2399     4JNXUYY8wbaaDmk3BPzlWw      5  2013-10-15   \n",
              "3430     4JNXUYY8wbaaDmk3BPzlWw      2  2017-04-03   \n",
              "7921     4JNXUYY8wbaaDmk3BPzlWw      4  2012-12-26   \n",
              "8793     4JNXUYY8wbaaDmk3BPzlWw      5  2015-10-21   \n",
              "...                         ...    ...         ...   \n",
              "5260352  4JNXUYY8wbaaDmk3BPzlWw      5  2013-10-19   \n",
              "5260356  4JNXUYY8wbaaDmk3BPzlWw      3  2013-12-29   \n",
              "5260675  4JNXUYY8wbaaDmk3BPzlWw      3  2014-03-12   \n",
              "5260989  4JNXUYY8wbaaDmk3BPzlWw      1  2013-11-12   \n",
              "5261455  4JNXUYY8wbaaDmk3BPzlWw      2  2017-05-18   \n",
              "\n",
              "                                                      text  \n",
              "1720     Traditional French fare at the heart of the La...  \n",
              "2399     This is my go to place for the last 12 years, ...  \n",
              "3430     Mediocre food for too much money, at least at ...  \n",
              "7921     My family and I had dinner here and the wait w...  \n",
              "8793     Patio dining at its best. Steak au poive with ...  \n",
              "...                                                    ...  \n",
              "5260352  Excellent service, excellent burger, excellent...  \n",
              "5260356  Mon Ami Gabi is situated at the front of the P...  \n",
              "5260675  Overpriced food, it didn't taste that good. (M...  \n",
              "5260989  Ok I will start this off by saying, the locati...  \n",
              "5261455  Came here for weekday brunch. Ordered the salm...  \n",
              "\n",
              "[7362 rows x 4 columns]"
            ],
            "text/html": [
              "\n",
              "  <div id=\"df-b4e3c17d-f843-4318-b3dd-88a52bde53a9\">\n",
              "    <div class=\"colab-df-container\">\n",
              "      <div>\n",
              "<style scoped>\n",
              "    .dataframe tbody tr th:only-of-type {\n",
              "        vertical-align: middle;\n",
              "    }\n",
              "\n",
              "    .dataframe tbody tr th {\n",
              "        vertical-align: top;\n",
              "    }\n",
              "\n",
              "    .dataframe thead th {\n",
              "        text-align: right;\n",
              "    }\n",
              "</style>\n",
              "<table border=\"1\" class=\"dataframe\">\n",
              "  <thead>\n",
              "    <tr style=\"text-align: right;\">\n",
              "      <th></th>\n",
              "      <th>business_id</th>\n",
              "      <th>stars</th>\n",
              "      <th>date</th>\n",
              "      <th>text</th>\n",
              "    </tr>\n",
              "  </thead>\n",
              "  <tbody>\n",
              "    <tr>\n",
              "      <th>1720</th>\n",
              "      <td>4JNXUYY8wbaaDmk3BPzlWw</td>\n",
              "      <td>4</td>\n",
              "      <td>2017-10-25</td>\n",
              "      <td>Traditional French fare at the heart of the La...</td>\n",
              "    </tr>\n",
              "    <tr>\n",
              "      <th>2399</th>\n",
              "      <td>4JNXUYY8wbaaDmk3BPzlWw</td>\n",
              "      <td>5</td>\n",
              "      <td>2013-10-15</td>\n",
              "      <td>This is my go to place for the last 12 years, ...</td>\n",
              "    </tr>\n",
              "    <tr>\n",
              "      <th>3430</th>\n",
              "      <td>4JNXUYY8wbaaDmk3BPzlWw</td>\n",
              "      <td>2</td>\n",
              "      <td>2017-04-03</td>\n",
              "      <td>Mediocre food for too much money, at least at ...</td>\n",
              "    </tr>\n",
              "    <tr>\n",
              "      <th>7921</th>\n",
              "      <td>4JNXUYY8wbaaDmk3BPzlWw</td>\n",
              "      <td>4</td>\n",
              "      <td>2012-12-26</td>\n",
              "      <td>My family and I had dinner here and the wait w...</td>\n",
              "    </tr>\n",
              "    <tr>\n",
              "      <th>8793</th>\n",
              "      <td>4JNXUYY8wbaaDmk3BPzlWw</td>\n",
              "      <td>5</td>\n",
              "      <td>2015-10-21</td>\n",
              "      <td>Patio dining at its best. Steak au poive with ...</td>\n",
              "    </tr>\n",
              "    <tr>\n",
              "      <th>...</th>\n",
              "      <td>...</td>\n",
              "      <td>...</td>\n",
              "      <td>...</td>\n",
              "      <td>...</td>\n",
              "    </tr>\n",
              "    <tr>\n",
              "      <th>5260352</th>\n",
              "      <td>4JNXUYY8wbaaDmk3BPzlWw</td>\n",
              "      <td>5</td>\n",
              "      <td>2013-10-19</td>\n",
              "      <td>Excellent service, excellent burger, excellent...</td>\n",
              "    </tr>\n",
              "    <tr>\n",
              "      <th>5260356</th>\n",
              "      <td>4JNXUYY8wbaaDmk3BPzlWw</td>\n",
              "      <td>3</td>\n",
              "      <td>2013-12-29</td>\n",
              "      <td>Mon Ami Gabi is situated at the front of the P...</td>\n",
              "    </tr>\n",
              "    <tr>\n",
              "      <th>5260675</th>\n",
              "      <td>4JNXUYY8wbaaDmk3BPzlWw</td>\n",
              "      <td>3</td>\n",
              "      <td>2014-03-12</td>\n",
              "      <td>Overpriced food, it didn't taste that good. (M...</td>\n",
              "    </tr>\n",
              "    <tr>\n",
              "      <th>5260989</th>\n",
              "      <td>4JNXUYY8wbaaDmk3BPzlWw</td>\n",
              "      <td>1</td>\n",
              "      <td>2013-11-12</td>\n",
              "      <td>Ok I will start this off by saying, the locati...</td>\n",
              "    </tr>\n",
              "    <tr>\n",
              "      <th>5261455</th>\n",
              "      <td>4JNXUYY8wbaaDmk3BPzlWw</td>\n",
              "      <td>2</td>\n",
              "      <td>2017-05-18</td>\n",
              "      <td>Came here for weekday brunch. Ordered the salm...</td>\n",
              "    </tr>\n",
              "  </tbody>\n",
              "</table>\n",
              "<p>7362 rows × 4 columns</p>\n",
              "</div>\n",
              "      <button class=\"colab-df-convert\" onclick=\"convertToInteractive('df-b4e3c17d-f843-4318-b3dd-88a52bde53a9')\"\n",
              "              title=\"Convert this dataframe to an interactive table.\"\n",
              "              style=\"display:none;\">\n",
              "        \n",
              "  <svg xmlns=\"http://www.w3.org/2000/svg\" height=\"24px\"viewBox=\"0 0 24 24\"\n",
              "       width=\"24px\">\n",
              "    <path d=\"M0 0h24v24H0V0z\" fill=\"none\"/>\n",
              "    <path d=\"M18.56 5.44l.94 2.06.94-2.06 2.06-.94-2.06-.94-.94-2.06-.94 2.06-2.06.94zm-11 1L8.5 8.5l.94-2.06 2.06-.94-2.06-.94L8.5 2.5l-.94 2.06-2.06.94zm10 10l.94 2.06.94-2.06 2.06-.94-2.06-.94-.94-2.06-.94 2.06-2.06.94z\"/><path d=\"M17.41 7.96l-1.37-1.37c-.4-.4-.92-.59-1.43-.59-.52 0-1.04.2-1.43.59L10.3 9.45l-7.72 7.72c-.78.78-.78 2.05 0 2.83L4 21.41c.39.39.9.59 1.41.59.51 0 1.02-.2 1.41-.59l7.78-7.78 2.81-2.81c.8-.78.8-2.07 0-2.86zM5.41 20L4 18.59l7.72-7.72 1.47 1.35L5.41 20z\"/>\n",
              "  </svg>\n",
              "      </button>\n",
              "      \n",
              "  <style>\n",
              "    .colab-df-container {\n",
              "      display:flex;\n",
              "      flex-wrap:wrap;\n",
              "      gap: 12px;\n",
              "    }\n",
              "\n",
              "    .colab-df-convert {\n",
              "      background-color: #E8F0FE;\n",
              "      border: none;\n",
              "      border-radius: 50%;\n",
              "      cursor: pointer;\n",
              "      display: none;\n",
              "      fill: #1967D2;\n",
              "      height: 32px;\n",
              "      padding: 0 0 0 0;\n",
              "      width: 32px;\n",
              "    }\n",
              "\n",
              "    .colab-df-convert:hover {\n",
              "      background-color: #E2EBFA;\n",
              "      box-shadow: 0px 1px 2px rgba(60, 64, 67, 0.3), 0px 1px 3px 1px rgba(60, 64, 67, 0.15);\n",
              "      fill: #174EA6;\n",
              "    }\n",
              "\n",
              "    [theme=dark] .colab-df-convert {\n",
              "      background-color: #3B4455;\n",
              "      fill: #D2E3FC;\n",
              "    }\n",
              "\n",
              "    [theme=dark] .colab-df-convert:hover {\n",
              "      background-color: #434B5C;\n",
              "      box-shadow: 0px 1px 3px 1px rgba(0, 0, 0, 0.15);\n",
              "      filter: drop-shadow(0px 1px 2px rgba(0, 0, 0, 0.3));\n",
              "      fill: #FFFFFF;\n",
              "    }\n",
              "  </style>\n",
              "\n",
              "      <script>\n",
              "        const buttonEl =\n",
              "          document.querySelector('#df-b4e3c17d-f843-4318-b3dd-88a52bde53a9 button.colab-df-convert');\n",
              "        buttonEl.style.display =\n",
              "          google.colab.kernel.accessAllowed ? 'block' : 'none';\n",
              "\n",
              "        async function convertToInteractive(key) {\n",
              "          const element = document.querySelector('#df-b4e3c17d-f843-4318-b3dd-88a52bde53a9');\n",
              "          const dataTable =\n",
              "            await google.colab.kernel.invokeFunction('convertToInteractive',\n",
              "                                                     [key], {});\n",
              "          if (!dataTable) return;\n",
              "\n",
              "          const docLinkHtml = 'Like what you see? Visit the ' +\n",
              "            '<a target=\"_blank\" href=https://colab.research.google.com/notebooks/data_table.ipynb>data table notebook</a>'\n",
              "            + ' to learn more about interactive tables.';\n",
              "          element.innerHTML = '';\n",
              "          dataTable['output_type'] = 'display_data';\n",
              "          await google.colab.output.renderOutput(dataTable, element);\n",
              "          const docLink = document.createElement('div');\n",
              "          docLink.innerHTML = docLinkHtml;\n",
              "          element.appendChild(docLink);\n",
              "        }\n",
              "      </script>\n",
              "    </div>\n",
              "  </div>\n",
              "  "
            ]
          },
          "metadata": {},
          "execution_count": 17
        }
      ],
      "source": [
        "dataset = dataset[dataset['business_id'] == '4JNXUYY8wbaaDmk3BPzlWw']\n",
        "dataset"
      ]
    },
    {
      "cell_type": "markdown",
      "id": "0a4ce626",
      "metadata": {
        "_uuid": "9d9b3aebb37fd8bde7c6e32bdb3f81f44e260203",
        "id": "0a4ce626"
      },
      "source": [
        "<a id=\"section4\"></a>\n",
        "# Text Pre-processing "
      ]
    },
    {
      "cell_type": "markdown",
      "id": "ddffe086",
      "metadata": {
        "_uuid": "05dd05c7e1138b1ab3fcb0bbefb475281c3d3264",
        "id": "ddffe086"
      },
      "source": [
        "<a id=\"section41\"></a>\n",
        "## Removing non-English reviews"
      ]
    },
    {
      "cell_type": "markdown",
      "id": "82727a3d",
      "metadata": {
        "_uuid": "96acbfff1e620d8b87ccfecc4430d5fe8007a0db",
        "id": "82727a3d"
      },
      "source": [
        "To start, let's have a look at what language are the reviews written in."
      ]
    },
    {
      "cell_type": "code",
      "execution_count": 18,
      "id": "a87ae3f0",
      "metadata": {
        "_kg_hide-input": true,
        "_uuid": "680de3977b26152622335cb069420b2e0b515b3d",
        "id": "a87ae3f0"
      },
      "outputs": [],
      "source": [
        "dataset['detect'] = dataset['text'].apply(detect)"
      ]
    },
    {
      "cell_type": "code",
      "execution_count": 19,
      "id": "738ec8ac",
      "metadata": {
        "colab": {
          "base_uri": "https://localhost:8080/",
          "height": 424
        },
        "id": "738ec8ac",
        "outputId": "87c97cca-907b-4072-c59e-54d6cdf0c02b"
      },
      "outputs": [
        {
          "output_type": "execute_result",
          "data": {
            "text/plain": [
              "                    business_id  stars        date  \\\n",
              "1720     4JNXUYY8wbaaDmk3BPzlWw      4  2017-10-25   \n",
              "2399     4JNXUYY8wbaaDmk3BPzlWw      5  2013-10-15   \n",
              "3430     4JNXUYY8wbaaDmk3BPzlWw      2  2017-04-03   \n",
              "7921     4JNXUYY8wbaaDmk3BPzlWw      4  2012-12-26   \n",
              "8793     4JNXUYY8wbaaDmk3BPzlWw      5  2015-10-21   \n",
              "...                         ...    ...         ...   \n",
              "5260352  4JNXUYY8wbaaDmk3BPzlWw      5  2013-10-19   \n",
              "5260356  4JNXUYY8wbaaDmk3BPzlWw      3  2013-12-29   \n",
              "5260675  4JNXUYY8wbaaDmk3BPzlWw      3  2014-03-12   \n",
              "5260989  4JNXUYY8wbaaDmk3BPzlWw      1  2013-11-12   \n",
              "5261455  4JNXUYY8wbaaDmk3BPzlWw      2  2017-05-18   \n",
              "\n",
              "                                                      text  \n",
              "1720     Traditional French fare at the heart of the La...  \n",
              "2399     This is my go to place for the last 12 years, ...  \n",
              "3430     Mediocre food for too much money, at least at ...  \n",
              "7921     My family and I had dinner here and the wait w...  \n",
              "8793     Patio dining at its best. Steak au poive with ...  \n",
              "...                                                    ...  \n",
              "5260352  Excellent service, excellent burger, excellent...  \n",
              "5260356  Mon Ami Gabi is situated at the front of the P...  \n",
              "5260675  Overpriced food, it didn't taste that good. (M...  \n",
              "5260989  Ok I will start this off by saying, the locati...  \n",
              "5261455  Came here for weekday brunch. Ordered the salm...  \n",
              "\n",
              "[7328 rows x 4 columns]"
            ],
            "text/html": [
              "\n",
              "  <div id=\"df-fb4fbacc-08f6-4fd0-9d47-221ae61349df\">\n",
              "    <div class=\"colab-df-container\">\n",
              "      <div>\n",
              "<style scoped>\n",
              "    .dataframe tbody tr th:only-of-type {\n",
              "        vertical-align: middle;\n",
              "    }\n",
              "\n",
              "    .dataframe tbody tr th {\n",
              "        vertical-align: top;\n",
              "    }\n",
              "\n",
              "    .dataframe thead th {\n",
              "        text-align: right;\n",
              "    }\n",
              "</style>\n",
              "<table border=\"1\" class=\"dataframe\">\n",
              "  <thead>\n",
              "    <tr style=\"text-align: right;\">\n",
              "      <th></th>\n",
              "      <th>business_id</th>\n",
              "      <th>stars</th>\n",
              "      <th>date</th>\n",
              "      <th>text</th>\n",
              "    </tr>\n",
              "  </thead>\n",
              "  <tbody>\n",
              "    <tr>\n",
              "      <th>1720</th>\n",
              "      <td>4JNXUYY8wbaaDmk3BPzlWw</td>\n",
              "      <td>4</td>\n",
              "      <td>2017-10-25</td>\n",
              "      <td>Traditional French fare at the heart of the La...</td>\n",
              "    </tr>\n",
              "    <tr>\n",
              "      <th>2399</th>\n",
              "      <td>4JNXUYY8wbaaDmk3BPzlWw</td>\n",
              "      <td>5</td>\n",
              "      <td>2013-10-15</td>\n",
              "      <td>This is my go to place for the last 12 years, ...</td>\n",
              "    </tr>\n",
              "    <tr>\n",
              "      <th>3430</th>\n",
              "      <td>4JNXUYY8wbaaDmk3BPzlWw</td>\n",
              "      <td>2</td>\n",
              "      <td>2017-04-03</td>\n",
              "      <td>Mediocre food for too much money, at least at ...</td>\n",
              "    </tr>\n",
              "    <tr>\n",
              "      <th>7921</th>\n",
              "      <td>4JNXUYY8wbaaDmk3BPzlWw</td>\n",
              "      <td>4</td>\n",
              "      <td>2012-12-26</td>\n",
              "      <td>My family and I had dinner here and the wait w...</td>\n",
              "    </tr>\n",
              "    <tr>\n",
              "      <th>8793</th>\n",
              "      <td>4JNXUYY8wbaaDmk3BPzlWw</td>\n",
              "      <td>5</td>\n",
              "      <td>2015-10-21</td>\n",
              "      <td>Patio dining at its best. Steak au poive with ...</td>\n",
              "    </tr>\n",
              "    <tr>\n",
              "      <th>...</th>\n",
              "      <td>...</td>\n",
              "      <td>...</td>\n",
              "      <td>...</td>\n",
              "      <td>...</td>\n",
              "    </tr>\n",
              "    <tr>\n",
              "      <th>5260352</th>\n",
              "      <td>4JNXUYY8wbaaDmk3BPzlWw</td>\n",
              "      <td>5</td>\n",
              "      <td>2013-10-19</td>\n",
              "      <td>Excellent service, excellent burger, excellent...</td>\n",
              "    </tr>\n",
              "    <tr>\n",
              "      <th>5260356</th>\n",
              "      <td>4JNXUYY8wbaaDmk3BPzlWw</td>\n",
              "      <td>3</td>\n",
              "      <td>2013-12-29</td>\n",
              "      <td>Mon Ami Gabi is situated at the front of the P...</td>\n",
              "    </tr>\n",
              "    <tr>\n",
              "      <th>5260675</th>\n",
              "      <td>4JNXUYY8wbaaDmk3BPzlWw</td>\n",
              "      <td>3</td>\n",
              "      <td>2014-03-12</td>\n",
              "      <td>Overpriced food, it didn't taste that good. (M...</td>\n",
              "    </tr>\n",
              "    <tr>\n",
              "      <th>5260989</th>\n",
              "      <td>4JNXUYY8wbaaDmk3BPzlWw</td>\n",
              "      <td>1</td>\n",
              "      <td>2013-11-12</td>\n",
              "      <td>Ok I will start this off by saying, the locati...</td>\n",
              "    </tr>\n",
              "    <tr>\n",
              "      <th>5261455</th>\n",
              "      <td>4JNXUYY8wbaaDmk3BPzlWw</td>\n",
              "      <td>2</td>\n",
              "      <td>2017-05-18</td>\n",
              "      <td>Came here for weekday brunch. Ordered the salm...</td>\n",
              "    </tr>\n",
              "  </tbody>\n",
              "</table>\n",
              "<p>7328 rows × 4 columns</p>\n",
              "</div>\n",
              "      <button class=\"colab-df-convert\" onclick=\"convertToInteractive('df-fb4fbacc-08f6-4fd0-9d47-221ae61349df')\"\n",
              "              title=\"Convert this dataframe to an interactive table.\"\n",
              "              style=\"display:none;\">\n",
              "        \n",
              "  <svg xmlns=\"http://www.w3.org/2000/svg\" height=\"24px\"viewBox=\"0 0 24 24\"\n",
              "       width=\"24px\">\n",
              "    <path d=\"M0 0h24v24H0V0z\" fill=\"none\"/>\n",
              "    <path d=\"M18.56 5.44l.94 2.06.94-2.06 2.06-.94-2.06-.94-.94-2.06-.94 2.06-2.06.94zm-11 1L8.5 8.5l.94-2.06 2.06-.94-2.06-.94L8.5 2.5l-.94 2.06-2.06.94zm10 10l.94 2.06.94-2.06 2.06-.94-2.06-.94-.94-2.06-.94 2.06-2.06.94z\"/><path d=\"M17.41 7.96l-1.37-1.37c-.4-.4-.92-.59-1.43-.59-.52 0-1.04.2-1.43.59L10.3 9.45l-7.72 7.72c-.78.78-.78 2.05 0 2.83L4 21.41c.39.39.9.59 1.41.59.51 0 1.02-.2 1.41-.59l7.78-7.78 2.81-2.81c.8-.78.8-2.07 0-2.86zM5.41 20L4 18.59l7.72-7.72 1.47 1.35L5.41 20z\"/>\n",
              "  </svg>\n",
              "      </button>\n",
              "      \n",
              "  <style>\n",
              "    .colab-df-container {\n",
              "      display:flex;\n",
              "      flex-wrap:wrap;\n",
              "      gap: 12px;\n",
              "    }\n",
              "\n",
              "    .colab-df-convert {\n",
              "      background-color: #E8F0FE;\n",
              "      border: none;\n",
              "      border-radius: 50%;\n",
              "      cursor: pointer;\n",
              "      display: none;\n",
              "      fill: #1967D2;\n",
              "      height: 32px;\n",
              "      padding: 0 0 0 0;\n",
              "      width: 32px;\n",
              "    }\n",
              "\n",
              "    .colab-df-convert:hover {\n",
              "      background-color: #E2EBFA;\n",
              "      box-shadow: 0px 1px 2px rgba(60, 64, 67, 0.3), 0px 1px 3px 1px rgba(60, 64, 67, 0.15);\n",
              "      fill: #174EA6;\n",
              "    }\n",
              "\n",
              "    [theme=dark] .colab-df-convert {\n",
              "      background-color: #3B4455;\n",
              "      fill: #D2E3FC;\n",
              "    }\n",
              "\n",
              "    [theme=dark] .colab-df-convert:hover {\n",
              "      background-color: #434B5C;\n",
              "      box-shadow: 0px 1px 3px 1px rgba(0, 0, 0, 0.15);\n",
              "      filter: drop-shadow(0px 1px 2px rgba(0, 0, 0, 0.3));\n",
              "      fill: #FFFFFF;\n",
              "    }\n",
              "  </style>\n",
              "\n",
              "      <script>\n",
              "        const buttonEl =\n",
              "          document.querySelector('#df-fb4fbacc-08f6-4fd0-9d47-221ae61349df button.colab-df-convert');\n",
              "        buttonEl.style.display =\n",
              "          google.colab.kernel.accessAllowed ? 'block' : 'none';\n",
              "\n",
              "        async function convertToInteractive(key) {\n",
              "          const element = document.querySelector('#df-fb4fbacc-08f6-4fd0-9d47-221ae61349df');\n",
              "          const dataTable =\n",
              "            await google.colab.kernel.invokeFunction('convertToInteractive',\n",
              "                                                     [key], {});\n",
              "          if (!dataTable) return;\n",
              "\n",
              "          const docLinkHtml = 'Like what you see? Visit the ' +\n",
              "            '<a target=\"_blank\" href=https://colab.research.google.com/notebooks/data_table.ipynb>data table notebook</a>'\n",
              "            + ' to learn more about interactive tables.';\n",
              "          element.innerHTML = '';\n",
              "          dataTable['output_type'] = 'display_data';\n",
              "          await google.colab.output.renderOutput(dataTable, element);\n",
              "          const docLink = document.createElement('div');\n",
              "          docLink.innerHTML = docLinkHtml;\n",
              "          element.appendChild(docLink);\n",
              "        }\n",
              "      </script>\n",
              "    </div>\n",
              "  </div>\n",
              "  "
            ]
          },
          "metadata": {},
          "execution_count": 19
        }
      ],
      "source": [
        "dataset = dataset[dataset['detect'] == 'en']\n",
        "dataset = dataset.drop(dataset.columns[4], axis=1)\n",
        "dataset"
      ]
    },
    {
      "cell_type": "code",
      "execution_count": 20,
      "id": "4710da38",
      "metadata": {
        "_kg_hide-input": true,
        "_kg_hide-output": true,
        "_uuid": "b792b694b99956c4cf8f78d7c21e25ba23e7e893",
        "colab": {
          "base_uri": "https://localhost:8080/",
          "height": 280
        },
        "id": "4710da38",
        "outputId": "e0ff3f65-65dd-44e5-833d-05a0d3c374a3"
      },
      "outputs": [
        {
          "output_type": "execute_result",
          "data": {
            "text/plain": [
              "<matplotlib.axes._subplots.AxesSubplot at 0x7fbc716265d0>"
            ]
          },
          "metadata": {},
          "execution_count": 20
        },
        {
          "output_type": "display_data",
          "data": {
            "text/plain": [
              "<Figure size 432x288 with 1 Axes>"
            ],
            "image/png": "[encoded data removed]"
          },
          "metadata": {
            "needs_background": "light"
          }
        }
      ],
      "source": [
        "dataset['stars'].value_counts().plot(kind='bar')"
      ]
    },
    {
      "cell_type": "markdown",
      "id": "e185a1b3",
      "metadata": {
        "_uuid": "689cb5a813038ac782f683acda2dcc67a26eeaf9",
        "id": "e185a1b3"
      },
      "source": [
        "<a id=\"section42\"></a>\n",
        "## Creating output variable (Sentiment) from Star Rating "
      ]
    },
    {
      "cell_type": "markdown",
      "id": "34bc7f5b",
      "metadata": {
        "_uuid": "e578e7679046d3fc3c82ba5f02e858707876ec64",
        "id": "34bc7f5b"
      },
      "source": [
        "It would make sense to associate **4- and 5-star reviews with a positive sentiment** and **1- and 2-star reviews with a negative sentiment**.\n",
        "\n",
        "3-star reviews would be **neutral**, but for simplicity purposes, we will only attempt to predict the positive and negative sentiment, and we will revisit neutral later. This is because our goal is to train a model to recognize positive or negative language, and 3-star reviews are likely to contain both. In normal language, neutral sentiment would mean that we are not using any words with an associated emotion, whereas this is not the case for reviews. Rather, customers assigning 3-star ratings are likely to have enjoyed some aspects and not enjoyed others. For this reason, I believe including a ''neutral' category is likely to affect our model accuracy and I would rather discard it for now. "
      ]
    },
    {
      "cell_type": "code",
      "execution_count": 21,
      "id": "86b13457",
      "metadata": {
        "_uuid": "b236e6c55f202395181731289e550c4107310bfe",
        "colab": {
          "base_uri": "https://localhost:8080/",
          "height": 424
        },
        "id": "86b13457",
        "outputId": "01e43816-ae95-477a-ccea-0b22ee7a7cc2"
      },
      "outputs": [
        {
          "output_type": "execute_result",
          "data": {
            "text/plain": [
              "                    business_id  stars        date  \\\n",
              "1720     4JNXUYY8wbaaDmk3BPzlWw      4  2017-10-25   \n",
              "2399     4JNXUYY8wbaaDmk3BPzlWw      5  2013-10-15   \n",
              "3430     4JNXUYY8wbaaDmk3BPzlWw      2  2017-04-03   \n",
              "7921     4JNXUYY8wbaaDmk3BPzlWw      4  2012-12-26   \n",
              "8793     4JNXUYY8wbaaDmk3BPzlWw      5  2015-10-21   \n",
              "...                         ...    ...         ...   \n",
              "5260227  4JNXUYY8wbaaDmk3BPzlWw      5  2012-08-01   \n",
              "5260239  4JNXUYY8wbaaDmk3BPzlWw      2  2016-04-12   \n",
              "5260352  4JNXUYY8wbaaDmk3BPzlWw      5  2013-10-19   \n",
              "5260989  4JNXUYY8wbaaDmk3BPzlWw      1  2013-11-12   \n",
              "5261455  4JNXUYY8wbaaDmk3BPzlWw      2  2017-05-18   \n",
              "\n",
              "                                                      text  \n",
              "1720     Traditional French fare at the heart of the La...  \n",
              "2399     This is my go to place for the last 12 years, ...  \n",
              "3430     Mediocre food for too much money, at least at ...  \n",
              "7921     My family and I had dinner here and the wait w...  \n",
              "8793     Patio dining at its best. Steak au poive with ...  \n",
              "...                                                    ...  \n",
              "5260227  A wonderful experience after last nights horre...  \n",
              "5260239  Did I go to the same restaurant as everyone el...  \n",
              "5260352  Excellent service, excellent burger, excellent...  \n",
              "5260989  Ok I will start this off by saying, the locati...  \n",
              "5261455  Came here for weekday brunch. Ordered the salm...  \n",
              "\n",
              "[6476 rows x 4 columns]"
            ],
            "text/html": [
              "\n",
              "  <div id=\"df-0775a5ca-d828-4426-85f2-fa27b709623a\">\n",
              "    <div class=\"colab-df-container\">\n",
              "      <div>\n",
              "<style scoped>\n",
              "    .dataframe tbody tr th:only-of-type {\n",
              "        vertical-align: middle;\n",
              "    }\n",
              "\n",
              "    .dataframe tbody tr th {\n",
              "        vertical-align: top;\n",
              "    }\n",
              "\n",
              "    .dataframe thead th {\n",
              "        text-align: right;\n",
              "    }\n",
              "</style>\n",
              "<table border=\"1\" class=\"dataframe\">\n",
              "  <thead>\n",
              "    <tr style=\"text-align: right;\">\n",
              "      <th></th>\n",
              "      <th>business_id</th>\n",
              "      <th>stars</th>\n",
              "      <th>date</th>\n",
              "      <th>text</th>\n",
              "    </tr>\n",
              "  </thead>\n",
              "  <tbody>\n",
              "    <tr>\n",
              "      <th>1720</th>\n",
              "      <td>4JNXUYY8wbaaDmk3BPzlWw</td>\n",
              "      <td>4</td>\n",
              "      <td>2017-10-25</td>\n",
              "      <td>Traditional French fare at the heart of the La...</td>\n",
              "    </tr>\n",
              "    <tr>\n",
              "      <th>2399</th>\n",
              "      <td>4JNXUYY8wbaaDmk3BPzlWw</td>\n",
              "      <td>5</td>\n",
              "      <td>2013-10-15</td>\n",
              "      <td>This is my go to place for the last 12 years, ...</td>\n",
              "    </tr>\n",
              "    <tr>\n",
              "      <th>3430</th>\n",
              "      <td>4JNXUYY8wbaaDmk3BPzlWw</td>\n",
              "      <td>2</td>\n",
              "      <td>2017-04-03</td>\n",
              "      <td>Mediocre food for too much money, at least at ...</td>\n",
              "    </tr>\n",
              "    <tr>\n",
              "      <th>7921</th>\n",
              "      <td>4JNXUYY8wbaaDmk3BPzlWw</td>\n",
              "      <td>4</td>\n",
              "      <td>2012-12-26</td>\n",
              "      <td>My family and I had dinner here and the wait w...</td>\n",
              "    </tr>\n",
              "    <tr>\n",
              "      <th>8793</th>\n",
              "      <td>4JNXUYY8wbaaDmk3BPzlWw</td>\n",
              "      <td>5</td>\n",
              "      <td>2015-10-21</td>\n",
              "      <td>Patio dining at its best. Steak au poive with ...</td>\n",
              "    </tr>\n",
              "    <tr>\n",
              "      <th>...</th>\n",
              "      <td>...</td>\n",
              "      <td>...</td>\n",
              "      <td>...</td>\n",
              "      <td>...</td>\n",
              "    </tr>\n",
              "    <tr>\n",
              "      <th>5260227</th>\n",
              "      <td>4JNXUYY8wbaaDmk3BPzlWw</td>\n",
              "      <td>5</td>\n",
              "      <td>2012-08-01</td>\n",
              "      <td>A wonderful experience after last nights horre...</td>\n",
              "    </tr>\n",
              "    <tr>\n",
              "      <th>5260239</th>\n",
              "      <td>4JNXUYY8wbaaDmk3BPzlWw</td>\n",
              "      <td>2</td>\n",
              "      <td>2016-04-12</td>\n",
              "      <td>Did I go to the same restaurant as everyone el...</td>\n",
              "    </tr>\n",
              "    <tr>\n",
              "      <th>5260352</th>\n",
              "      <td>4JNXUYY8wbaaDmk3BPzlWw</td>\n",
              "      <td>5</td>\n",
              "      <td>2013-10-19</td>\n",
              "      <td>Excellent service, excellent burger, excellent...</td>\n",
              "    </tr>\n",
              "    <tr>\n",
              "      <th>5260989</th>\n",
              "      <td>4JNXUYY8wbaaDmk3BPzlWw</td>\n",
              "      <td>1</td>\n",
              "      <td>2013-11-12</td>\n",
              "      <td>Ok I will start this off by saying, the locati...</td>\n",
              "    </tr>\n",
              "    <tr>\n",
              "      <th>5261455</th>\n",
              "      <td>4JNXUYY8wbaaDmk3BPzlWw</td>\n",
              "      <td>2</td>\n",
              "      <td>2017-05-18</td>\n",
              "      <td>Came here for weekday brunch. Ordered the salm...</td>\n",
              "    </tr>\n",
              "  </tbody>\n",
              "</table>\n",
              "<p>6476 rows × 4 columns</p>\n",
              "</div>\n",
              "      <button class=\"colab-df-convert\" onclick=\"convertToInteractive('df-0775a5ca-d828-4426-85f2-fa27b709623a')\"\n",
              "              title=\"Convert this dataframe to an interactive table.\"\n",
              "              style=\"display:none;\">\n",
              "        \n",
              "  <svg xmlns=\"http://www.w3.org/2000/svg\" height=\"24px\"viewBox=\"0 0 24 24\"\n",
              "       width=\"24px\">\n",
              "    <path d=\"M0 0h24v24H0V0z\" fill=\"none\"/>\n",
              "    <path d=\"M18.56 5.44l.94 2.06.94-2.06 2.06-.94-2.06-.94-.94-2.06-.94 2.06-2.06.94zm-11 1L8.5 8.5l.94-2.06 2.06-.94-2.06-.94L8.5 2.5l-.94 2.06-2.06.94zm10 10l.94 2.06.94-2.06 2.06-.94-2.06-.94-.94-2.06-.94 2.06-2.06.94z\"/><path d=\"M17.41 7.96l-1.37-1.37c-.4-.4-.92-.59-1.43-.59-.52 0-1.04.2-1.43.59L10.3 9.45l-7.72 7.72c-.78.78-.78 2.05 0 2.83L4 21.41c.39.39.9.59 1.41.59.51 0 1.02-.2 1.41-.59l7.78-7.78 2.81-2.81c.8-.78.8-2.07 0-2.86zM5.41 20L4 18.59l7.72-7.72 1.47 1.35L5.41 20z\"/>\n",
              "  </svg>\n",
              "      </button>\n",
              "      \n",
              "  <style>\n",
              "    .colab-df-container {\n",
              "      display:flex;\n",
              "      flex-wrap:wrap;\n",
              "      gap: 12px;\n",
              "    }\n",
              "\n",
              "    .colab-df-convert {\n",
              "      background-color: #E8F0FE;\n",
              "      border: none;\n",
              "      border-radius: 50%;\n",
              "      cursor: pointer;\n",
              "      display: none;\n",
              "      fill: #1967D2;\n",
              "      height: 32px;\n",
              "      padding: 0 0 0 0;\n",
              "      width: 32px;\n",
              "    }\n",
              "\n",
              "    .colab-df-convert:hover {\n",
              "      background-color: #E2EBFA;\n",
              "      box-shadow: 0px 1px 2px rgba(60, 64, 67, 0.3), 0px 1px 3px 1px rgba(60, 64, 67, 0.15);\n",
              "      fill: #174EA6;\n",
              "    }\n",
              "\n",
              "    [theme=dark] .colab-df-convert {\n",
              "      background-color: #3B4455;\n",
              "      fill: #D2E3FC;\n",
              "    }\n",
              "\n",
              "    [theme=dark] .colab-df-convert:hover {\n",
              "      background-color: #434B5C;\n",
              "      box-shadow: 0px 1px 3px 1px rgba(0, 0, 0, 0.15);\n",
              "      filter: drop-shadow(0px 1px 2px rgba(0, 0, 0, 0.3));\n",
              "      fill: #FFFFFF;\n",
              "    }\n",
              "  </style>\n",
              "\n",
              "      <script>\n",
              "        const buttonEl =\n",
              "          document.querySelector('#df-0775a5ca-d828-4426-85f2-fa27b709623a button.colab-df-convert');\n",
              "        buttonEl.style.display =\n",
              "          google.colab.kernel.accessAllowed ? 'block' : 'none';\n",
              "\n",
              "        async function convertToInteractive(key) {\n",
              "          const element = document.querySelector('#df-0775a5ca-d828-4426-85f2-fa27b709623a');\n",
              "          const dataTable =\n",
              "            await google.colab.kernel.invokeFunction('convertToInteractive',\n",
              "                                                     [key], {});\n",
              "          if (!dataTable) return;\n",
              "\n",
              "          const docLinkHtml = 'Like what you see? Visit the ' +\n",
              "            '<a target=\"_blank\" href=https://colab.research.google.com/notebooks/data_table.ipynb>data table notebook</a>'\n",
              "            + ' to learn more about interactive tables.';\n",
              "          element.innerHTML = '';\n",
              "          dataTable['output_type'] = 'display_data';\n",
              "          await google.colab.output.renderOutput(dataTable, element);\n",
              "          const docLink = document.createElement('div');\n",
              "          docLink.innerHTML = docLinkHtml;\n",
              "          element.appendChild(docLink);\n",
              "        }\n",
              "      </script>\n",
              "    </div>\n",
              "  </div>\n",
              "  "
            ]
          },
          "metadata": {},
          "execution_count": 21
        }
      ],
      "source": [
        "dataset = dataset[dataset['stars'] != 3]\n",
        "dataset"
      ]
    },
    {
      "cell_type": "markdown",
      "id": "3e7996b0",
      "metadata": {
        "_uuid": "86de73cb5427b2f20fc825171ef9bc477e0ba1f0",
        "id": "3e7996b0"
      },
      "source": [
        "**Let's now create a binary variable for the sentiment:**"
      ]
    },
    {
      "cell_type": "code",
      "execution_count": 22,
      "id": "486efb42",
      "metadata": {
        "colab": {
          "base_uri": "https://localhost:8080/"
        },
        "id": "486efb42",
        "outputId": "840f9eaa-e41c-43f1-f77b-dab204a2321f"
      },
      "outputs": [
        {
          "output_type": "stream",
          "name": "stderr",
          "text": [
            "/usr/local/lib/python3.7/dist-packages/ipykernel_launcher.py:1: SettingWithCopyWarning: \n",
            "A value is trying to be set on a copy of a slice from a DataFrame.\n",
            "Try using .loc[row_indexer,col_indexer] = value instead\n",
            "\n",
            "See the caveats in the documentation: https://pandas.pydata.org/pandas-docs/stable/user_guide/indexing.html#returning-a-view-versus-a-copy\n",
            "  \"\"\"Entry point for launching an IPython kernel.\n",
            "/usr/local/lib/python3.7/dist-packages/pandas/core/indexing.py:1817: SettingWithCopyWarning: \n",
            "A value is trying to be set on a copy of a slice from a DataFrame.\n",
            "Try using .loc[row_indexer,col_indexer] = value instead\n",
            "\n",
            "See the caveats in the documentation: https://pandas.pydata.org/pandas-docs/stable/user_guide/indexing.html#returning-a-view-versus-a-copy\n",
            "  self._setitem_single_column(loc, value, pi)\n"
          ]
        }
      ],
      "source": [
        "dataset['liked'] = 0\n",
        "dataset.loc[dataset['stars'] > 3, 'liked'] = 1"
      ]
    },
    {
      "cell_type": "code",
      "execution_count": 23,
      "id": "125a7682",
      "metadata": {
        "colab": {
          "base_uri": "https://localhost:8080/",
          "height": 424
        },
        "id": "125a7682",
        "outputId": "24d28401-5a72-4953-fb09-b32e7b3bdf84"
      },
      "outputs": [
        {
          "output_type": "execute_result",
          "data": {
            "text/plain": [
              "                    business_id  stars        date  \\\n",
              "1720     4JNXUYY8wbaaDmk3BPzlWw      4  2017-10-25   \n",
              "2399     4JNXUYY8wbaaDmk3BPzlWw      5  2013-10-15   \n",
              "3430     4JNXUYY8wbaaDmk3BPzlWw      2  2017-04-03   \n",
              "7921     4JNXUYY8wbaaDmk3BPzlWw      4  2012-12-26   \n",
              "8793     4JNXUYY8wbaaDmk3BPzlWw      5  2015-10-21   \n",
              "...                         ...    ...         ...   \n",
              "5260227  4JNXUYY8wbaaDmk3BPzlWw      5  2012-08-01   \n",
              "5260239  4JNXUYY8wbaaDmk3BPzlWw      2  2016-04-12   \n",
              "5260352  4JNXUYY8wbaaDmk3BPzlWw      5  2013-10-19   \n",
              "5260989  4JNXUYY8wbaaDmk3BPzlWw      1  2013-11-12   \n",
              "5261455  4JNXUYY8wbaaDmk3BPzlWw      2  2017-05-18   \n",
              "\n",
              "                                                      text  liked  \n",
              "1720     Traditional French fare at the heart of the La...      1  \n",
              "2399     This is my go to place for the last 12 years, ...      1  \n",
              "3430     Mediocre food for too much money, at least at ...      0  \n",
              "7921     My family and I had dinner here and the wait w...      1  \n",
              "8793     Patio dining at its best. Steak au poive with ...      1  \n",
              "...                                                    ...    ...  \n",
              "5260227  A wonderful experience after last nights horre...      1  \n",
              "5260239  Did I go to the same restaurant as everyone el...      0  \n",
              "5260352  Excellent service, excellent burger, excellent...      1  \n",
              "5260989  Ok I will start this off by saying, the locati...      0  \n",
              "5261455  Came here for weekday brunch. Ordered the salm...      0  \n",
              "\n",
              "[6476 rows x 5 columns]"
            ],
            "text/html": [
              "\n",
              "  <div id=\"df-02e726e4-28e6-4ac5-97cb-5f2e4dfb59ef\">\n",
              "    <div class=\"colab-df-container\">\n",
              "      <div>\n",
              "<style scoped>\n",
              "    .dataframe tbody tr th:only-of-type {\n",
              "        vertical-align: middle;\n",
              "    }\n",
              "\n",
              "    .dataframe tbody tr th {\n",
              "        vertical-align: top;\n",
              "    }\n",
              "\n",
              "    .dataframe thead th {\n",
              "        text-align: right;\n",
              "    }\n",
              "</style>\n",
              "<table border=\"1\" class=\"dataframe\">\n",
              "  <thead>\n",
              "    <tr style=\"text-align: right;\">\n",
              "      <th></th>\n",
              "      <th>business_id</th>\n",
              "      <th>stars</th>\n",
              "      <th>date</th>\n",
              "      <th>text</th>\n",
              "      <th>liked</th>\n",
              "    </tr>\n",
              "  </thead>\n",
              "  <tbody>\n",
              "    <tr>\n",
              "      <th>1720</th>\n",
              "      <td>4JNXUYY8wbaaDmk3BPzlWw</td>\n",
              "      <td>4</td>\n",
              "      <td>2017-10-25</td>\n",
              "      <td>Traditional French fare at the heart of the La...</td>\n",
              "      <td>1</td>\n",
              "    </tr>\n",
              "    <tr>\n",
              "      <th>2399</th>\n",
              "      <td>4JNXUYY8wbaaDmk3BPzlWw</td>\n",
              "      <td>5</td>\n",
              "      <td>2013-10-15</td>\n",
              "      <td>This is my go to place for the last 12 years, ...</td>\n",
              "      <td>1</td>\n",
              "    </tr>\n",
              "    <tr>\n",
              "      <th>3430</th>\n",
              "      <td>4JNXUYY8wbaaDmk3BPzlWw</td>\n",
              "      <td>2</td>\n",
              "      <td>2017-04-03</td>\n",
              "      <td>Mediocre food for too much money, at least at ...</td>\n",
              "      <td>0</td>\n",
              "    </tr>\n",
              "    <tr>\n",
              "      <th>7921</th>\n",
              "      <td>4JNXUYY8wbaaDmk3BPzlWw</td>\n",
              "      <td>4</td>\n",
              "      <td>2012-12-26</td>\n",
              "      <td>My family and I had dinner here and the wait w...</td>\n",
              "      <td>1</td>\n",
              "    </tr>\n",
              "    <tr>\n",
              "      <th>8793</th>\n",
              "      <td>4JNXUYY8wbaaDmk3BPzlWw</td>\n",
              "      <td>5</td>\n",
              "      <td>2015-10-21</td>\n",
              "      <td>Patio dining at its best. Steak au poive with ...</td>\n",
              "      <td>1</td>\n",
              "    </tr>\n",
              "    <tr>\n",
              "      <th>...</th>\n",
              "      <td>...</td>\n",
              "      <td>...</td>\n",
              "      <td>...</td>\n",
              "      <td>...</td>\n",
              "      <td>...</td>\n",
              "    </tr>\n",
              "    <tr>\n",
              "      <th>5260227</th>\n",
              "      <td>4JNXUYY8wbaaDmk3BPzlWw</td>\n",
              "      <td>5</td>\n",
              "      <td>2012-08-01</td>\n",
              "      <td>A wonderful experience after last nights horre...</td>\n",
              "      <td>1</td>\n",
              "    </tr>\n",
              "    <tr>\n",
              "      <th>5260239</th>\n",
              "      <td>4JNXUYY8wbaaDmk3BPzlWw</td>\n",
              "      <td>2</td>\n",
              "      <td>2016-04-12</td>\n",
              "      <td>Did I go to the same restaurant as everyone el...</td>\n",
              "      <td>0</td>\n",
              "    </tr>\n",
              "    <tr>\n",
              "      <th>5260352</th>\n",
              "      <td>4JNXUYY8wbaaDmk3BPzlWw</td>\n",
              "      <td>5</td>\n",
              "      <td>2013-10-19</td>\n",
              "      <td>Excellent service, excellent burger, excellent...</td>\n",
              "      <td>1</td>\n",
              "    </tr>\n",
              "    <tr>\n",
              "      <th>5260989</th>\n",
              "      <td>4JNXUYY8wbaaDmk3BPzlWw</td>\n",
              "      <td>1</td>\n",
              "      <td>2013-11-12</td>\n",
              "      <td>Ok I will start this off by saying, the locati...</td>\n",
              "      <td>0</td>\n",
              "    </tr>\n",
              "    <tr>\n",
              "      <th>5261455</th>\n",
              "      <td>4JNXUYY8wbaaDmk3BPzlWw</td>\n",
              "      <td>2</td>\n",
              "      <td>2017-05-18</td>\n",
              "      <td>Came here for weekday brunch. Ordered the salm...</td>\n",
              "      <td>0</td>\n",
              "    </tr>\n",
              "  </tbody>\n",
              "</table>\n",
              "<p>6476 rows × 5 columns</p>\n",
              "</div>\n",
              "      <button class=\"colab-df-convert\" onclick=\"convertToInteractive('df-02e726e4-28e6-4ac5-97cb-5f2e4dfb59ef')\"\n",
              "              title=\"Convert this dataframe to an interactive table.\"\n",
              "              style=\"display:none;\">\n",
              "        \n",
              "  <svg xmlns=\"http://www.w3.org/2000/svg\" height=\"24px\"viewBox=\"0 0 24 24\"\n",
              "       width=\"24px\">\n",
              "    <path d=\"M0 0h24v24H0V0z\" fill=\"none\"/>\n",
              "    <path d=\"M18.56 5.44l.94 2.06.94-2.06 2.06-.94-2.06-.94-.94-2.06-.94 2.06-2.06.94zm-11 1L8.5 8.5l.94-2.06 2.06-.94-2.06-.94L8.5 2.5l-.94 2.06-2.06.94zm10 10l.94 2.06.94-2.06 2.06-.94-2.06-.94-.94-2.06-.94 2.06-2.06.94z\"/><path d=\"M17.41 7.96l-1.37-1.37c-.4-.4-.92-.59-1.43-.59-.52 0-1.04.2-1.43.59L10.3 9.45l-7.72 7.72c-.78.78-.78 2.05 0 2.83L4 21.41c.39.39.9.59 1.41.59.51 0 1.02-.2 1.41-.59l7.78-7.78 2.81-2.81c.8-.78.8-2.07 0-2.86zM5.41 20L4 18.59l7.72-7.72 1.47 1.35L5.41 20z\"/>\n",
              "  </svg>\n",
              "      </button>\n",
              "      \n",
              "  <style>\n",
              "    .colab-df-container {\n",
              "      display:flex;\n",
              "      flex-wrap:wrap;\n",
              "      gap: 12px;\n",
              "    }\n",
              "\n",
              "    .colab-df-convert {\n",
              "      background-color: #E8F0FE;\n",
              "      border: none;\n",
              "      border-radius: 50%;\n",
              "      cursor: pointer;\n",
              "      display: none;\n",
              "      fill: #1967D2;\n",
              "      height: 32px;\n",
              "      padding: 0 0 0 0;\n",
              "      width: 32px;\n",
              "    }\n",
              "\n",
              "    .colab-df-convert:hover {\n",
              "      background-color: #E2EBFA;\n",
              "      box-shadow: 0px 1px 2px rgba(60, 64, 67, 0.3), 0px 1px 3px 1px rgba(60, 64, 67, 0.15);\n",
              "      fill: #174EA6;\n",
              "    }\n",
              "\n",
              "    [theme=dark] .colab-df-convert {\n",
              "      background-color: #3B4455;\n",
              "      fill: #D2E3FC;\n",
              "    }\n",
              "\n",
              "    [theme=dark] .colab-df-convert:hover {\n",
              "      background-color: #434B5C;\n",
              "      box-shadow: 0px 1px 3px 1px rgba(0, 0, 0, 0.15);\n",
              "      filter: drop-shadow(0px 1px 2px rgba(0, 0, 0, 0.3));\n",
              "      fill: #FFFFFF;\n",
              "    }\n",
              "  </style>\n",
              "\n",
              "      <script>\n",
              "        const buttonEl =\n",
              "          document.querySelector('#df-02e726e4-28e6-4ac5-97cb-5f2e4dfb59ef button.colab-df-convert');\n",
              "        buttonEl.style.display =\n",
              "          google.colab.kernel.accessAllowed ? 'block' : 'none';\n",
              "\n",
              "        async function convertToInteractive(key) {\n",
              "          const element = document.querySelector('#df-02e726e4-28e6-4ac5-97cb-5f2e4dfb59ef');\n",
              "          const dataTable =\n",
              "            await google.colab.kernel.invokeFunction('convertToInteractive',\n",
              "                                                     [key], {});\n",
              "          if (!dataTable) return;\n",
              "\n",
              "          const docLinkHtml = 'Like what you see? Visit the ' +\n",
              "            '<a target=\"_blank\" href=https://colab.research.google.com/notebooks/data_table.ipynb>data table notebook</a>'\n",
              "            + ' to learn more about interactive tables.';\n",
              "          element.innerHTML = '';\n",
              "          dataTable['output_type'] = 'display_data';\n",
              "          await google.colab.output.renderOutput(dataTable, element);\n",
              "          const docLink = document.createElement('div');\n",
              "          docLink.innerHTML = docLinkHtml;\n",
              "          element.appendChild(docLink);\n",
              "        }\n",
              "      </script>\n",
              "    </div>\n",
              "  </div>\n",
              "  "
            ]
          },
          "metadata": {},
          "execution_count": 23
        }
      ],
      "source": [
        "dataset"
      ]
    },
    {
      "cell_type": "markdown",
      "id": "54231778",
      "metadata": {
        "_uuid": "1bb562849bd0634b47c936e4ce61c89738e95eab",
        "id": "54231778"
      },
      "source": [
        "<a id=\"section43\"></a>\n",
        "## Creating input variables - *Bag of Words* approach"
      ]
    },
    {
      "cell_type": "markdown",
      "id": "ebfda235",
      "metadata": {
        "_uuid": "0c9fd29ab99ff99cc98c6e7072ecc1c33a1b9d06",
        "id": "ebfda235"
      },
      "source": [
        "The following block of code processes the text by transforming it into lowercase, removing the puntuation and the common English words ( such as \"this\", \"and\" and so on)."
      ]
    },
    {
      "cell_type": "code",
      "execution_count": 72,
      "id": "764ffcac",
      "metadata": {
        "_uuid": "ac0e53f1e3c5e8b396b7b42388373d2412cdbe14",
        "colab": {
          "base_uri": "https://localhost:8080/"
        },
        "id": "764ffcac",
        "outputId": "1c905717-6677-4d0c-bf16-a45abe4ec292"
      },
      "outputs": [
        {
          "output_type": "stream",
          "name": "stderr",
          "text": [
            "[nltk_data] Downloading package stopwords to /root/nltk_data...\n",
            "[nltk_data]   Package stopwords is already up-to-date!\n"
          ]
        }
      ],
      "source": [
        "corpus = []\n",
        "nltk.download('stopwords')\n",
        "for row in dataset.itertuples():\n",
        "    review = re.sub('[^a-zA-Z]', ' ', row.text)\n",
        "    review = review.lower()\n",
        "    review = review.split()\n",
        "    ps = PorterStemmer()\n",
        "    review = [ps.stem(word) for word in review if not word in set(stopwords.words('english'))]\n",
        "    review = ' '.join(review)\n",
        "    corpus.append(review)"
      ]
    },
    {
      "cell_type": "markdown",
      "id": "867e2068",
      "metadata": {
        "_uuid": "199f09dc52fc113cd379db85ead0a3735773df91",
        "id": "867e2068"
      },
      "source": [
        "Let's see how one of our reviews looks now."
      ]
    },
    {
      "cell_type": "code",
      "execution_count": 73,
      "id": "413df96b",
      "metadata": {
        "_kg_hide-input": true,
        "_uuid": "68e3c409487a8611848da918ecc1543b659ebe25",
        "scrolled": true,
        "colab": {
          "base_uri": "https://localhost:8080/",
          "height": 71
        },
        "id": "413df96b",
        "outputId": "977c113f-82e6-4fde-f824-db8f40ec0cb9"
      },
      "outputs": [
        {
          "output_type": "execute_result",
          "data": {
            "text/plain": [
              "'go place last year consist dish amaz wine select larg group famili dinner consist ppl food tast exactli great price strip restaur must appit liver mouss pate steak bordelais favorit diet free day ask roquefort sauc pomm fritt best dish plat du jour beef wellington thursday sunday tip tri shrimp gabi appit still order even though menu year'"
            ],
            "application/vnd.google.colaboratory.intrinsic+json": {
              "type": "string"
            }
          },
          "metadata": {},
          "execution_count": 73
        }
      ],
      "source": [
        "corpus[1]"
      ]
    },
    {
      "cell_type": "code",
      "execution_count": 74,
      "id": "5aab547d",
      "metadata": {
        "id": "5aab547d"
      },
      "outputs": [],
      "source": [
        "cv = CountVectorizer(max_features = 1500)\n",
        "X = cv.fit_transform(corpus).toarray()\n",
        "y = dataset.iloc[:, 4].values"
      ]
    },
    {
      "cell_type": "code",
      "execution_count": 75,
      "id": "87e46909",
      "metadata": {
        "colab": {
          "base_uri": "https://localhost:8080/"
        },
        "id": "87e46909",
        "outputId": "a78ab360-732e-40f8-9840-d81be750067d"
      },
      "outputs": [
        {
          "output_type": "execute_result",
          "data": {
            "text/plain": [
              "array([1, 1, 0, ..., 1, 0, 0])"
            ]
          },
          "metadata": {},
          "execution_count": 75
        }
      ],
      "source": [
        "y"
      ]
    },
    {
      "cell_type": "code",
      "execution_count": 76,
      "id": "1d19e9ab",
      "metadata": {
        "id": "1d19e9ab"
      },
      "outputs": [],
      "source": [
        "X_train, X_test, y_train, y_test = train_test_split(X, y, test_size = 0.2, random_state = 0)"
      ]
    },
    {
      "cell_type": "code",
      "execution_count": 77,
      "id": "2a293a75",
      "metadata": {
        "colab": {
          "base_uri": "https://localhost:8080/"
        },
        "id": "2a293a75",
        "outputId": "998a0c3f-f80b-4b34-ecbc-ec4fec7d1216"
      },
      "outputs": [
        {
          "output_type": "execute_result",
          "data": {
            "text/plain": [
              "array([0, 0, 0, 0, 0, 0, 0, 0, 0, 0])"
            ]
          },
          "metadata": {},
          "execution_count": 77
        }
      ],
      "source": [
        "X_train[0, 0:10]"
      ]
    },
    {
      "cell_type": "code",
      "execution_count": 78,
      "id": "f2910d2e",
      "metadata": {
        "colab": {
          "base_uri": "https://localhost:8080/"
        },
        "id": "f2910d2e",
        "outputId": "4dc274f4-cba4-4f95-dd7c-45d1f67ba83e"
      },
      "outputs": [
        {
          "output_type": "execute_result",
          "data": {
            "text/plain": [
              "GaussianNB()"
            ]
          },
          "metadata": {},
          "execution_count": 78
        }
      ],
      "source": [
        "classifier = GaussianNB()\n",
        "classifier.fit(X_train, y_train)"
      ]
    },
    {
      "cell_type": "code",
      "execution_count": 79,
      "id": "b4579830",
      "metadata": {
        "id": "b4579830"
      },
      "outputs": [],
      "source": [
        "y_pred_NB = classifier.predict(X_test)"
      ]
    },
    {
      "cell_type": "code",
      "execution_count": 80,
      "id": "3c052ef6",
      "metadata": {
        "colab": {
          "base_uri": "https://localhost:8080/"
        },
        "id": "3c052ef6",
        "outputId": "e7d7382a-4971-4a71-8c7a-dd98cc15a454"
      },
      "outputs": [
        {
          "output_type": "execute_result",
          "data": {
            "text/plain": [
              "array([[122,  20],\n",
              "       [675, 479]])"
            ]
          },
          "metadata": {},
          "execution_count": 80
        }
      ],
      "source": [
        "cm_NB = confusion_matrix(y_test, y_pred_NB) \n",
        "cm_NB"
      ]
    },
    {
      "cell_type": "code",
      "execution_count": 81,
      "id": "9ae8582a",
      "metadata": {
        "id": "9ae8582a"
      },
      "outputs": [],
      "source": [
        "TP_NB = 680 #True Positives (Naive Bayes)\n",
        "TN_NB = 108 #True Negatives (Naive Bayes)\n",
        "FP_NB = 476 #False Positives (Naive Bayes)\n",
        "FN_NB = 31 #False Negatives (Naive Bayes)"
      ]
    },
    {
      "cell_type": "code",
      "execution_count": 82,
      "id": "9eae1fc9",
      "metadata": {
        "colab": {
          "base_uri": "https://localhost:8080/"
        },
        "id": "9eae1fc9",
        "outputId": "acb1f06e-e8f3-4d53-c4a0-488b8b0e50ba"
      },
      "outputs": [
        {
          "output_type": "execute_result",
          "data": {
            "text/plain": [
              "0.6084942084942085"
            ]
          },
          "metadata": {},
          "execution_count": 82
        }
      ],
      "source": [
        "Accuracy_NB = (TP_NB + TN_NB) / (TP_NB + TN_NB + FP_NB + FN_NB) \n",
        "Accuracy_NB  "
      ]
    },
    {
      "cell_type": "code",
      "execution_count": 83,
      "id": "ba257244",
      "metadata": {
        "colab": {
          "base_uri": "https://localhost:8080/"
        },
        "id": "ba257244",
        "outputId": "e937459e-bc7a-41b0-86b3-72e2c58e7f87"
      },
      "outputs": [
        {
          "output_type": "execute_result",
          "data": {
            "text/plain": [
              "0.5882352941176471"
            ]
          },
          "metadata": {},
          "execution_count": 83
        }
      ],
      "source": [
        "Precision_NB = TP_NB / (TP_NB + FP_NB)\n",
        "Precision_NB"
      ]
    },
    {
      "cell_type": "code",
      "execution_count": 84,
      "id": "0f9c2922",
      "metadata": {
        "colab": {
          "base_uri": "https://localhost:8080/"
        },
        "id": "0f9c2922",
        "outputId": "e7b613f4-baf1-4d58-d919-fde14f91e40d"
      },
      "outputs": [
        {
          "output_type": "execute_result",
          "data": {
            "text/plain": [
              "0.9563994374120957"
            ]
          },
          "metadata": {},
          "execution_count": 84
        }
      ],
      "source": [
        "Recall_NB = TP_NB / (TP_NB + FN_NB)\n",
        "Recall_NB"
      ]
    },
    {
      "cell_type": "code",
      "execution_count": 85,
      "id": "175362fe",
      "metadata": {
        "colab": {
          "base_uri": "https://localhost:8080/"
        },
        "id": "175362fe",
        "outputId": "458cf67c-97a7-4b32-c2c9-b94c0054ea6d"
      },
      "outputs": [
        {
          "output_type": "execute_result",
          "data": {
            "text/plain": [
              "0.7284413497589715"
            ]
          },
          "metadata": {},
          "execution_count": 85
        }
      ],
      "source": [
        "F1_Score_NB = 2 * Precision_NB * Recall_NB / (Precision_NB + Recall_NB) \n",
        "F1_Score_NB"
      ]
    },
    {
      "cell_type": "code",
      "execution_count": 86,
      "id": "23ae20b6",
      "metadata": {
        "colab": {
          "base_uri": "https://localhost:8080/"
        },
        "id": "23ae20b6",
        "outputId": "cee01602-c80c-4ee9-cfbd-88627ead09c4"
      },
      "outputs": [
        {
          "output_type": "execute_result",
          "data": {
            "text/plain": [
              "DecisionTreeClassifier(criterion='entropy', random_state=0)"
            ]
          },
          "metadata": {},
          "execution_count": 86
        }
      ],
      "source": [
        "classifier = DecisionTreeClassifier(criterion = 'entropy', random_state = 0)\n",
        "classifier.fit(X_train, y_train)"
      ]
    },
    {
      "cell_type": "code",
      "execution_count": 87,
      "id": "998f9818",
      "metadata": {
        "colab": {
          "base_uri": "https://localhost:8080/"
        },
        "id": "998f9818",
        "outputId": "58f2eecd-47b9-4918-bfe2-27d2c5ccf877"
      },
      "outputs": [
        {
          "output_type": "execute_result",
          "data": {
            "text/plain": [
              "array([1, 0, 0, ..., 1, 1, 1])"
            ]
          },
          "metadata": {},
          "execution_count": 87
        }
      ],
      "source": [
        "y_pred_DT = classifier.predict(X_test)\n",
        "y_pred_DT"
      ]
    },
    {
      "cell_type": "code",
      "execution_count": 88,
      "id": "a7e7f525",
      "metadata": {
        "colab": {
          "base_uri": "https://localhost:8080/"
        },
        "id": "a7e7f525",
        "outputId": "f477b655-c3d7-49e1-c0b1-a9cac427c8e9"
      },
      "outputs": [
        {
          "output_type": "execute_result",
          "data": {
            "text/plain": [
              "array([[  62,   80],\n",
              "       [  65, 1089]])"
            ]
          },
          "metadata": {},
          "execution_count": 88
        }
      ],
      "source": [
        "cm_DT = confusion_matrix(y_test, y_pred_DT) \n",
        "cm_DT"
      ]
    },
    {
      "cell_type": "code",
      "execution_count": 89,
      "id": "72833aa3",
      "metadata": {
        "id": "72833aa3"
      },
      "outputs": [],
      "source": [
        "TP_DT = 1091 #True Positives (Decision Tree)\n",
        "TN_DT = 70 #True Negatives (Decision Tree)\n",
        "FP_DT = 65 #False Positives (Decision Tree)\n",
        "FN_DT = 69 #False Negatives (Decision Tree)"
      ]
    },
    {
      "cell_type": "code",
      "execution_count": 90,
      "id": "92adc905",
      "metadata": {
        "colab": {
          "base_uri": "https://localhost:8080/"
        },
        "id": "92adc905",
        "outputId": "8d7a6523-a901-4196-ddef-f4fba7089720"
      },
      "outputs": [
        {
          "output_type": "execute_result",
          "data": {
            "text/plain": [
              "0.8965250965250965"
            ]
          },
          "metadata": {},
          "execution_count": 90
        }
      ],
      "source": [
        "Accuracy_DT = (TP_DT + TN_DT) / (TP_DT + TN_DT + FP_DT + FN_DT)\n",
        "Accuracy_DT"
      ]
    },
    {
      "cell_type": "code",
      "execution_count": 91,
      "id": "00c391d0",
      "metadata": {
        "colab": {
          "base_uri": "https://localhost:8080/"
        },
        "id": "00c391d0",
        "outputId": "320b0c4e-7639-452f-d052-06e037e38801"
      },
      "outputs": [
        {
          "output_type": "execute_result",
          "data": {
            "text/plain": [
              "0.9437716262975778"
            ]
          },
          "metadata": {},
          "execution_count": 91
        }
      ],
      "source": [
        "Precision_DT = TP_DT / (TP_DT + FP_DT)\n",
        "Precision_DT"
      ]
    },
    {
      "cell_type": "code",
      "execution_count": 92,
      "id": "2f921afb",
      "metadata": {
        "colab": {
          "base_uri": "https://localhost:8080/"
        },
        "id": "2f921afb",
        "outputId": "d96e2248-a036-4a01-9432-c54bc4d50194"
      },
      "outputs": [
        {
          "output_type": "execute_result",
          "data": {
            "text/plain": [
              "0.9405172413793104"
            ]
          },
          "metadata": {},
          "execution_count": 92
        }
      ],
      "source": [
        "Recall_DT = TP_DT / (TP_DT + FN_DT)\n",
        "Recall_DT"
      ]
    },
    {
      "cell_type": "code",
      "execution_count": 93,
      "id": "3301bc71",
      "metadata": {
        "colab": {
          "base_uri": "https://localhost:8080/"
        },
        "id": "3301bc71",
        "outputId": "679befa0-2510-4bd8-908c-96580278bc39"
      },
      "outputs": [
        {
          "output_type": "execute_result",
          "data": {
            "text/plain": [
              "0.9421416234887737"
            ]
          },
          "metadata": {},
          "execution_count": 93
        }
      ],
      "source": [
        "F1_Score_DT = 2 * Precision_DT * Recall_DT / (Precision_DT + Recall_DT)\n",
        "F1_Score_DT"
      ]
    },
    {
      "cell_type": "code",
      "execution_count": 94,
      "id": "48072327",
      "metadata": {
        "colab": {
          "base_uri": "https://localhost:8080/"
        },
        "id": "48072327",
        "outputId": "de280f0a-9a83-4c25-9778-8d18fd879c25"
      },
      "outputs": [
        {
          "output_type": "execute_result",
          "data": {
            "text/plain": [
              "RandomForestClassifier(criterion='entropy', n_estimators=300, random_state=0)"
            ]
          },
          "metadata": {},
          "execution_count": 94
        }
      ],
      "source": [
        "classifier = RandomForestClassifier(n_estimators = 300, criterion = 'entropy', random_state = 0)\n",
        "classifier.fit(X_train, y_train)"
      ]
    },
    {
      "cell_type": "code",
      "execution_count": 95,
      "id": "2e880d4f",
      "metadata": {
        "colab": {
          "base_uri": "https://localhost:8080/"
        },
        "id": "2e880d4f",
        "outputId": "9741799e-e202-48cb-ce96-acd057af36f1"
      },
      "outputs": [
        {
          "output_type": "execute_result",
          "data": {
            "text/plain": [
              "array([1, 1, 1, ..., 1, 1, 1])"
            ]
          },
          "metadata": {},
          "execution_count": 95
        }
      ],
      "source": [
        "y_pred_RF = classifier.predict(X_test)\n",
        "y_pred_RF"
      ]
    },
    {
      "cell_type": "code",
      "execution_count": 96,
      "id": "3bc89fe2",
      "metadata": {
        "colab": {
          "base_uri": "https://localhost:8080/"
        },
        "id": "3bc89fe2",
        "outputId": "33263e72-8934-4d57-951f-8dfe376b919a"
      },
      "outputs": [
        {
          "output_type": "execute_result",
          "data": {
            "text/plain": [
              "array([[  30,  112],\n",
              "       [   2, 1152]])"
            ]
          },
          "metadata": {},
          "execution_count": 96
        }
      ],
      "source": [
        "cm_RF = confusion_matrix(y_test, y_pred_RF) \n",
        "cm_RF"
      ]
    },
    {
      "cell_type": "code",
      "execution_count": 97,
      "id": "982df825",
      "metadata": {
        "id": "982df825"
      },
      "outputs": [],
      "source": [
        "TP_RF = 1156 #True Positives (Random Forest)\n",
        "TN_RF = 12 #True Negatives (Random Forest)\n",
        "FP_RF = 0 #False Positives (Random Forest)\n",
        "FN_RF = 127 #False Negatives (Random Forest)"
      ]
    },
    {
      "cell_type": "code",
      "execution_count": 98,
      "id": "f79a6e52",
      "metadata": {
        "colab": {
          "base_uri": "https://localhost:8080/"
        },
        "id": "f79a6e52",
        "outputId": "62437177-491e-4ada-8a50-19fbee824b49"
      },
      "outputs": [
        {
          "output_type": "execute_result",
          "data": {
            "text/plain": [
              "0.901930501930502"
            ]
          },
          "metadata": {},
          "execution_count": 98
        }
      ],
      "source": [
        "Accuracy_RF = (TP_RF + TN_RF) / (TP_RF + TN_RF + FP_RF + FN_RF)\n",
        "Accuracy_RF"
      ]
    },
    {
      "cell_type": "code",
      "execution_count": 99,
      "id": "862d70bb",
      "metadata": {
        "colab": {
          "base_uri": "https://localhost:8080/"
        },
        "id": "862d70bb",
        "outputId": "b7c9dbff-f3f7-42a7-c997-d4218115b985"
      },
      "outputs": [
        {
          "output_type": "execute_result",
          "data": {
            "text/plain": [
              "1.0"
            ]
          },
          "metadata": {},
          "execution_count": 99
        }
      ],
      "source": [
        "Precision_RF = TP_RF / (TP_RF + FP_RF)\n",
        "Precision_RF"
      ]
    },
    {
      "cell_type": "code",
      "execution_count": 100,
      "id": "a1e39247",
      "metadata": {
        "colab": {
          "base_uri": "https://localhost:8080/"
        },
        "id": "a1e39247",
        "outputId": "3d2cb8e8-5385-49d8-92c6-7b9f9bb821b0"
      },
      "outputs": [
        {
          "output_type": "execute_result",
          "data": {
            "text/plain": [
              "0.9010132501948558"
            ]
          },
          "metadata": {},
          "execution_count": 100
        }
      ],
      "source": [
        "Recall_RF = TP_RF / (TP_RF + FN_RF)\n",
        "Recall_RF"
      ]
    },
    {
      "cell_type": "code",
      "execution_count": 101,
      "id": "f0441eae",
      "metadata": {
        "colab": {
          "base_uri": "https://localhost:8080/"
        },
        "id": "f0441eae",
        "outputId": "b27c0cb3-0516-4569-9936-82e2923b35f1"
      },
      "outputs": [
        {
          "output_type": "execute_result",
          "data": {
            "text/plain": [
              "0.947929479294793"
            ]
          },
          "metadata": {},
          "execution_count": 101
        }
      ],
      "source": [
        "F1_Score_RF = 2 * Precision_RF * Recall_RF / (Precision_RF + Recall_RF)\n",
        "F1_Score_RF"
      ]
    },
    {
      "cell_type": "code",
      "execution_count": 102,
      "id": "15039f8a",
      "metadata": {
        "colab": {
          "base_uri": "https://localhost:8080/",
          "height": 282
        },
        "id": "15039f8a",
        "outputId": "c82a34ba-fa25-4608-e565-89f131c1c460"
      },
      "outputs": [
        {
          "output_type": "display_data",
          "data": {
            "text/plain": [
              "<Figure size 432x288 with 1 Axes>"
            ],
            "image/png": "[encoded data removed]"
          },
          "metadata": {
            "needs_background": "light"
          }
        }
      ],
      "source": [
        "Accuracy = [Accuracy_RF, Accuracy_DT, Accuracy_NB]\n",
        "Methods = ['Random_Forest', 'Decision_Trees', 'Naive_Bayes']\n",
        "Accuracy_pos = np.arange(len(Methods))\n",
        "plt.bar(Accuracy_pos, Accuracy)\n",
        "plt.xticks(Accuracy_pos, Methods)\n",
        "plt.title('Comparing the accuracy of each model')\n",
        "plt.show()"
      ]
    },
    {
      "cell_type": "code",
      "execution_count": 103,
      "id": "04bd1e95",
      "metadata": {
        "colab": {
          "base_uri": "https://localhost:8080/",
          "height": 282
        },
        "id": "04bd1e95",
        "outputId": "556293d7-281c-4891-fed3-6f8dfec628e1"
      },
      "outputs": [
        {
          "output_type": "display_data",
          "data": {
            "text/plain": [
              "<Figure size 432x288 with 1 Axes>"
            ],
            "image/png": "[encoded data removed]"
          },
          "metadata": {
            "needs_background": "light"
          }
        }
      ],
      "source": [
        "Precision = [Precision_RF, Precision_DT, Precision_NB]\n",
        "Precision_pos = np.arange(len(Methods))\n",
        "plt.bar(Precision_pos, Precision)\n",
        "plt.xticks(Precision_pos, Methods)\n",
        "plt.title('Comparing the precision of each model')\n",
        "plt.show()"
      ]
    },
    {
      "cell_type": "code",
      "execution_count": 104,
      "id": "cbf6090c",
      "metadata": {
        "colab": {
          "base_uri": "https://localhost:8080/",
          "height": 282
        },
        "id": "cbf6090c",
        "outputId": "19e66bfc-1eec-45fe-9264-89bc165fac6b"
      },
      "outputs": [
        {
          "output_type": "display_data",
          "data": {
            "text/plain": [
              "<Figure size 432x288 with 1 Axes>"
            ],
            "image/png": "[encoded data removed]"
          },
          "metadata": {
            "needs_background": "light"
          }
        }
      ],
      "source": [
        "Recall = [Recall_RF, Recall_DT, Recall_NB]\n",
        "Recall_pos = np.arange(len(Methods))\n",
        "plt.bar(Recall_pos, Recall)\n",
        "plt.xticks(Recall_pos, Methods)\n",
        "plt.title('Comparing the recall of each model')\n",
        "plt.show()"
      ]
    },
    {
      "cell_type": "code",
      "execution_count": 105,
      "id": "21272c8d",
      "metadata": {
        "scrolled": true,
        "colab": {
          "base_uri": "https://localhost:8080/",
          "height": 282
        },
        "id": "21272c8d",
        "outputId": "d2f8cd33-c911-4b61-d4e8-a74c0e730daa"
      },
      "outputs": [
        {
          "output_type": "display_data",
          "data": {
            "text/plain": [
              "<Figure size 432x288 with 1 Axes>"
            ],
            "image/png": "[encoded data removed]"
          },
          "metadata": {
            "needs_background": "light"
          }
        }
      ],
      "source": [
        "F1_Score = [F1_Score_RF, F1_Score_DT, F1_Score_NB]\n",
        "F1_Score_pos = np.arange(len(Methods))\n",
        "plt.bar(F1_Score_pos, F1_Score)\n",
        "plt.xticks(F1_Score_pos, Methods)\n",
        "plt.title('Comparing the F1 Score of each model')\n",
        "plt.show()"
      ]
    }
  ],
  "metadata": {
    "kernelspec": {
      "display_name": "Python 3",
      "language": "python",
      "name": "python3"
    },
    "language_info": {
      "codemirror_mode": {
        "name": "ipython",
        "version": 3
      },
      "file_extension": ".py",
      "mimetype": "text/x-python",
      "name": "python",
      "nbconvert_exporter": "python",
      "pygments_lexer": "ipython3",
      "version": "3.8.8"
    },
    "colab": {
      "provenance": [],
      "collapsed_sections": [],
      "include_colab_link": true
    }
  },
  "nbformat": 4,
  "nbformat_minor": 5
}